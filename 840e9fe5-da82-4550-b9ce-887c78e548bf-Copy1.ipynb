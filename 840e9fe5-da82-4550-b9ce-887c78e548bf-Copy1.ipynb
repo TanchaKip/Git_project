{
 "cells": [
  {
   "cell_type": "markdown",
   "metadata": {
    "toc": true
   },
   "source": [
    "<h1>Содержание<span class=\"tocSkip\"></span></h1>\n",
    "<div class=\"toc\"><ul class=\"toc-item\"><li><span><a href=\"#Подготовка-данных\" data-toc-modified-id=\"Подготовка-данных-1\"><span class=\"toc-item-num\">1&nbsp;&nbsp;</span>Подготовка данных</a></span><ul class=\"toc-item\"><li><span><a href=\"#Анализ-данных\" data-toc-modified-id=\"Анализ-данных-1.1\"><span class=\"toc-item-num\">1.1&nbsp;&nbsp;</span>Анализ данных</a></span></li><li><span><a href=\"#Подготовка-данных-для-машинного-обучения¶\" data-toc-modified-id=\"Подготовка-данных-для-машинного-обучения¶-1.2\"><span class=\"toc-item-num\">1.2&nbsp;&nbsp;</span>Подготовка данных для машинного обучения¶</a></span></li><li><span><a href=\"#Формирование-выборок:-обучающая,-валидационная,-тестовая\" data-toc-modified-id=\"Формирование-выборок:-обучающая,-валидационная,-тестовая-1.3\"><span class=\"toc-item-num\">1.3&nbsp;&nbsp;</span>Формирование выборок: обучающая, валидационная, тестовая</a></span></li><li><span><a href=\"#Масштабирование-признаков\" data-toc-modified-id=\"Масштабирование-признаков-1.4\"><span class=\"toc-item-num\">1.4&nbsp;&nbsp;</span>Масштабирование признаков</a></span></li></ul></li><li><span><a href=\"#Исследование-задачи\" data-toc-modified-id=\"Исследование-задачи-2\"><span class=\"toc-item-num\">2&nbsp;&nbsp;</span>Исследование задачи</a></span><ul class=\"toc-item\"><li><span><a href=\"#Проверка-на-баланс-классов\" data-toc-modified-id=\"Проверка-на-баланс-классов-2.1\"><span class=\"toc-item-num\">2.1&nbsp;&nbsp;</span>Проверка на баланс классов</a></span></li><li><span><a href=\"#Обучение-моделей\" data-toc-modified-id=\"Обучение-моделей-2.2\"><span class=\"toc-item-num\">2.2&nbsp;&nbsp;</span>Обучение моделей</a></span></li></ul></li><li><span><a href=\"#Борьба-с-дисбалансом\" data-toc-modified-id=\"Борьба-с-дисбалансом-3\"><span class=\"toc-item-num\">3&nbsp;&nbsp;</span>Борьба с дисбалансом</a></span><ul class=\"toc-item\"><li><span><a href=\"#Балансировка-классов\" data-toc-modified-id=\"Балансировка-классов-3.1\"><span class=\"toc-item-num\">3.1&nbsp;&nbsp;</span>Балансировка классов</a></span></li><li><span><a href=\"#Уменьшение-выборки\" data-toc-modified-id=\"Уменьшение-выборки-3.2\"><span class=\"toc-item-num\">3.2&nbsp;&nbsp;</span>Уменьшение выборки</a></span></li><li><span><a href=\"#График-AUC-ROC-(баланс-классов-методом-downsampling)\" data-toc-modified-id=\"График-AUC-ROC-(баланс-классов-методом-downsampling)-3.3\"><span class=\"toc-item-num\">3.3&nbsp;&nbsp;</span>График AUC-ROC (баланс классов методом downsampling)</a></span></li><li><span><a href=\"#Увеличение-выборки\" data-toc-modified-id=\"Увеличение-выборки-3.4\"><span class=\"toc-item-num\">3.4&nbsp;&nbsp;</span>Увеличение выборки</a></span></li><li><span><a href=\"#График-AUC-ROC-(баланс-классов-методом-upsampling)\" data-toc-modified-id=\"График-AUC-ROC-(баланс-классов-методом-upsampling)-3.5\"><span class=\"toc-item-num\">3.5&nbsp;&nbsp;</span>График AUC-ROC (баланс классов методом upsampling)</a></span></li></ul></li><li><span><a href=\"#Тестирование-модели\" data-toc-modified-id=\"Тестирование-модели-4\"><span class=\"toc-item-num\">4&nbsp;&nbsp;</span>Тестирование модели</a></span><ul class=\"toc-item\"><li><span><a href=\"#Проверка-на-адекватность\" data-toc-modified-id=\"Проверка-на-адекватность-4.1\"><span class=\"toc-item-num\">4.1&nbsp;&nbsp;</span>Проверка на адекватность</a></span></li><li><span><a href=\"#Тестирование-финальной-модели\" data-toc-modified-id=\"Тестирование-финальной-модели-4.2\"><span class=\"toc-item-num\">4.2&nbsp;&nbsp;</span>Тестирование финальной модели</a></span></li><li><span><a href=\"#Выводы\" data-toc-modified-id=\"Выводы-4.3\"><span class=\"toc-item-num\">4.3&nbsp;&nbsp;</span>Выводы</a></span></li></ul></li><li><span><a href=\"#Чек-лист-готовности-проекта\" data-toc-modified-id=\"Чек-лист-готовности-проекта-5\"><span class=\"toc-item-num\">5&nbsp;&nbsp;</span>Чек-лист готовности проекта</a></span></li></ul></div>"
   ]
  },
  {
   "cell_type": "markdown",
   "metadata": {},
   "source": [
    "# Отток клиентов"
   ]
  },
  {
   "cell_type": "markdown",
   "metadata": {},
   "source": [
    "Из «Бета-Банка» стали уходить клиенты. Каждый месяц. Немного, но заметно. Банковские маркетологи посчитали: сохранять текущих клиентов дешевле, чем привлекать новых.\n",
    "\n",
    "Нужно спрогнозировать, уйдёт клиент из банка в ближайшее время или нет. Вам предоставлены исторические данные о поведении клиентов и расторжении договоров с банком. \n",
    "\n",
    "Постройте модель с предельно большим значением *F1*-меры. Чтобы сдать проект успешно, нужно довести метрику до 0.59. Проверьте *F1*-меру на тестовой выборке самостоятельно.\n",
    "\n",
    "Дополнительно измеряйте *AUC-ROC*, сравнивайте её значение с *F1*-мерой.\n",
    "\n",
    "Источник данных: [https://www.kaggle.com/barelydedicated/bank-customer-churn-modeling](https://www.kaggle.com/barelydedicated/bank-customer-churn-modeling)"
   ]
  },
  {
   "cell_type": "markdown",
   "metadata": {},
   "source": [
    "## Подготовка данных"
   ]
  },
  {
   "cell_type": "markdown",
   "metadata": {},
   "source": [
    "### Анализ данных"
   ]
  },
  {
   "cell_type": "code",
   "execution_count": 1,
   "metadata": {},
   "outputs": [],
   "source": [
    "# импорт библиотек \n",
    "import pandas as pd\n",
    "import numpy as np\n",
    "\n",
    "import matplotlib.pyplot as plt # графики\n",
    "from sklearn.model_selection import train_test_split # разделим на выборки\n",
    "from sklearn.preprocessing import StandardScaler # стандартизация данных\n",
    "from sklearn.metrics import accuracy_score # метрика качества\n",
    "from sklearn.preprocessing import StandardScaler# библиотека стандартного масштабирования\n",
    "from sklearn.utils import shuffle # перемешивание данных\n",
    "\n",
    "from sklearn.tree import DecisionTreeClassifier # модель решающего дерева\n",
    "from sklearn.ensemble import RandomForestClassifier # модель случайный лес\n",
    "from sklearn.linear_model import LogisticRegression # логическая регрессия\n",
    "\n",
    "# импортируем необходимые метрики\n",
    "from sklearn.metrics import accuracy_score # метика accuracy\n",
    "from sklearn.metrics import confusion_matrix # матрица ошибок\n",
    "from sklearn.metrics import recall_score # полнота\n",
    "from sklearn.metrics import precision_score # точность\n",
    "from sklearn.metrics import f1_score # F-1 мера\n",
    "from sklearn.metrics import roc_auc_score # AUC-ROC\n",
    "from sklearn.metrics import roc_curve # ROC-кривая"
   ]
  },
  {
   "cell_type": "code",
   "execution_count": 2,
   "metadata": {},
   "outputs": [],
   "source": [
    "try:\n",
    "    df = pd.read_csv(r'C:\\Users\\tanch\\Desktop\\data science\\проекты\\Коммандная строка_Git\\Churn.csv', sep=',') # чтение файлов с данными\n",
    "except:\n",
    "    df = pd.read_csv('/datasets/Churn.csv', sep=',') # чтение файлов с данными"
   ]
  },
  {
   "cell_type": "markdown",
   "metadata": {},
   "source": [
    "Просмотрим первые пять строк таблицы."
   ]
  },
  {
   "cell_type": "code",
   "execution_count": 3,
   "metadata": {},
   "outputs": [
    {
     "data": {
      "text/html": [
       "<div>\n",
       "<style scoped>\n",
       "    .dataframe tbody tr th:only-of-type {\n",
       "        vertical-align: middle;\n",
       "    }\n",
       "\n",
       "    .dataframe tbody tr th {\n",
       "        vertical-align: top;\n",
       "    }\n",
       "\n",
       "    .dataframe thead th {\n",
       "        text-align: right;\n",
       "    }\n",
       "</style>\n",
       "<table border=\"1\" class=\"dataframe\">\n",
       "  <thead>\n",
       "    <tr style=\"text-align: right;\">\n",
       "      <th></th>\n",
       "      <th>RowNumber</th>\n",
       "      <th>CustomerId</th>\n",
       "      <th>Surname</th>\n",
       "      <th>CreditScore</th>\n",
       "      <th>Geography</th>\n",
       "      <th>Gender</th>\n",
       "      <th>Age</th>\n",
       "      <th>Tenure</th>\n",
       "      <th>Balance</th>\n",
       "      <th>NumOfProducts</th>\n",
       "      <th>HasCrCard</th>\n",
       "      <th>IsActiveMember</th>\n",
       "      <th>EstimatedSalary</th>\n",
       "      <th>Exited</th>\n",
       "    </tr>\n",
       "  </thead>\n",
       "  <tbody>\n",
       "    <tr>\n",
       "      <th>0</th>\n",
       "      <td>1</td>\n",
       "      <td>15634602</td>\n",
       "      <td>Hargrave</td>\n",
       "      <td>619</td>\n",
       "      <td>France</td>\n",
       "      <td>Female</td>\n",
       "      <td>42</td>\n",
       "      <td>2.0</td>\n",
       "      <td>0.00</td>\n",
       "      <td>1</td>\n",
       "      <td>1</td>\n",
       "      <td>1</td>\n",
       "      <td>101348.88</td>\n",
       "      <td>1</td>\n",
       "    </tr>\n",
       "    <tr>\n",
       "      <th>1</th>\n",
       "      <td>2</td>\n",
       "      <td>15647311</td>\n",
       "      <td>Hill</td>\n",
       "      <td>608</td>\n",
       "      <td>Spain</td>\n",
       "      <td>Female</td>\n",
       "      <td>41</td>\n",
       "      <td>1.0</td>\n",
       "      <td>83807.86</td>\n",
       "      <td>1</td>\n",
       "      <td>0</td>\n",
       "      <td>1</td>\n",
       "      <td>112542.58</td>\n",
       "      <td>0</td>\n",
       "    </tr>\n",
       "    <tr>\n",
       "      <th>2</th>\n",
       "      <td>3</td>\n",
       "      <td>15619304</td>\n",
       "      <td>Onio</td>\n",
       "      <td>502</td>\n",
       "      <td>France</td>\n",
       "      <td>Female</td>\n",
       "      <td>42</td>\n",
       "      <td>8.0</td>\n",
       "      <td>159660.80</td>\n",
       "      <td>3</td>\n",
       "      <td>1</td>\n",
       "      <td>0</td>\n",
       "      <td>113931.57</td>\n",
       "      <td>1</td>\n",
       "    </tr>\n",
       "    <tr>\n",
       "      <th>3</th>\n",
       "      <td>4</td>\n",
       "      <td>15701354</td>\n",
       "      <td>Boni</td>\n",
       "      <td>699</td>\n",
       "      <td>France</td>\n",
       "      <td>Female</td>\n",
       "      <td>39</td>\n",
       "      <td>1.0</td>\n",
       "      <td>0.00</td>\n",
       "      <td>2</td>\n",
       "      <td>0</td>\n",
       "      <td>0</td>\n",
       "      <td>93826.63</td>\n",
       "      <td>0</td>\n",
       "    </tr>\n",
       "    <tr>\n",
       "      <th>4</th>\n",
       "      <td>5</td>\n",
       "      <td>15737888</td>\n",
       "      <td>Mitchell</td>\n",
       "      <td>850</td>\n",
       "      <td>Spain</td>\n",
       "      <td>Female</td>\n",
       "      <td>43</td>\n",
       "      <td>2.0</td>\n",
       "      <td>125510.82</td>\n",
       "      <td>1</td>\n",
       "      <td>1</td>\n",
       "      <td>1</td>\n",
       "      <td>79084.10</td>\n",
       "      <td>0</td>\n",
       "    </tr>\n",
       "  </tbody>\n",
       "</table>\n",
       "</div>"
      ],
      "text/plain": [
       "   RowNumber  CustomerId   Surname  CreditScore Geography  Gender  Age  \\\n",
       "0          1    15634602  Hargrave          619    France  Female   42   \n",
       "1          2    15647311      Hill          608     Spain  Female   41   \n",
       "2          3    15619304      Onio          502    France  Female   42   \n",
       "3          4    15701354      Boni          699    France  Female   39   \n",
       "4          5    15737888  Mitchell          850     Spain  Female   43   \n",
       "\n",
       "   Tenure    Balance  NumOfProducts  HasCrCard  IsActiveMember  \\\n",
       "0     2.0       0.00              1          1               1   \n",
       "1     1.0   83807.86              1          0               1   \n",
       "2     8.0  159660.80              3          1               0   \n",
       "3     1.0       0.00              2          0               0   \n",
       "4     2.0  125510.82              1          1               1   \n",
       "\n",
       "   EstimatedSalary  Exited  \n",
       "0        101348.88       1  \n",
       "1        112542.58       0  \n",
       "2        113931.57       1  \n",
       "3         93826.63       0  \n",
       "4         79084.10       0  "
      ]
     },
     "execution_count": 3,
     "metadata": {},
     "output_type": "execute_result"
    }
   ],
   "source": [
    "df.head() # просмотр первых 5 строк таблицы "
   ]
  },
  {
   "cell_type": "code",
   "execution_count": 4,
   "metadata": {},
   "outputs": [
    {
     "name": "stdout",
     "output_type": "stream",
     "text": [
      "<class 'pandas.core.frame.DataFrame'>\n",
      "RangeIndex: 10000 entries, 0 to 9999\n",
      "Data columns (total 14 columns):\n",
      " #   Column           Non-Null Count  Dtype  \n",
      "---  ------           --------------  -----  \n",
      " 0   RowNumber        10000 non-null  int64  \n",
      " 1   CustomerId       10000 non-null  int64  \n",
      " 2   Surname          10000 non-null  object \n",
      " 3   CreditScore      10000 non-null  int64  \n",
      " 4   Geography        10000 non-null  object \n",
      " 5   Gender           10000 non-null  object \n",
      " 6   Age              10000 non-null  int64  \n",
      " 7   Tenure           9091 non-null   float64\n",
      " 8   Balance          10000 non-null  float64\n",
      " 9   NumOfProducts    10000 non-null  int64  \n",
      " 10  HasCrCard        10000 non-null  int64  \n",
      " 11  IsActiveMember   10000 non-null  int64  \n",
      " 12  EstimatedSalary  10000 non-null  float64\n",
      " 13  Exited           10000 non-null  int64  \n",
      "dtypes: float64(3), int64(8), object(3)\n",
      "memory usage: 1.1+ MB\n"
     ]
    }
   ],
   "source": [
    "df.info() # просмотр информации о таблице"
   ]
  },
  {
   "cell_type": "code",
   "execution_count": 5,
   "metadata": {},
   "outputs": [
    {
     "data": {
      "text/html": [
       "<div>\n",
       "<style scoped>\n",
       "    .dataframe tbody tr th:only-of-type {\n",
       "        vertical-align: middle;\n",
       "    }\n",
       "\n",
       "    .dataframe tbody tr th {\n",
       "        vertical-align: top;\n",
       "    }\n",
       "\n",
       "    .dataframe thead th {\n",
       "        text-align: right;\n",
       "    }\n",
       "</style>\n",
       "<table border=\"1\" class=\"dataframe\">\n",
       "  <thead>\n",
       "    <tr style=\"text-align: right;\">\n",
       "      <th></th>\n",
       "      <th>RowNumber</th>\n",
       "      <th>CustomerId</th>\n",
       "      <th>CreditScore</th>\n",
       "      <th>Age</th>\n",
       "      <th>Tenure</th>\n",
       "      <th>Balance</th>\n",
       "      <th>NumOfProducts</th>\n",
       "      <th>HasCrCard</th>\n",
       "      <th>IsActiveMember</th>\n",
       "      <th>EstimatedSalary</th>\n",
       "      <th>Exited</th>\n",
       "    </tr>\n",
       "  </thead>\n",
       "  <tbody>\n",
       "    <tr>\n",
       "      <th>count</th>\n",
       "      <td>10000.00000</td>\n",
       "      <td>1.000000e+04</td>\n",
       "      <td>10000.000000</td>\n",
       "      <td>10000.000000</td>\n",
       "      <td>9091.000000</td>\n",
       "      <td>10000.000000</td>\n",
       "      <td>10000.000000</td>\n",
       "      <td>10000.00000</td>\n",
       "      <td>10000.000000</td>\n",
       "      <td>10000.000000</td>\n",
       "      <td>10000.000000</td>\n",
       "    </tr>\n",
       "    <tr>\n",
       "      <th>mean</th>\n",
       "      <td>5000.50000</td>\n",
       "      <td>1.569094e+07</td>\n",
       "      <td>650.528800</td>\n",
       "      <td>38.921800</td>\n",
       "      <td>4.997690</td>\n",
       "      <td>76485.889288</td>\n",
       "      <td>1.530200</td>\n",
       "      <td>0.70550</td>\n",
       "      <td>0.515100</td>\n",
       "      <td>100090.239881</td>\n",
       "      <td>0.203700</td>\n",
       "    </tr>\n",
       "    <tr>\n",
       "      <th>std</th>\n",
       "      <td>2886.89568</td>\n",
       "      <td>7.193619e+04</td>\n",
       "      <td>96.653299</td>\n",
       "      <td>10.487806</td>\n",
       "      <td>2.894723</td>\n",
       "      <td>62397.405202</td>\n",
       "      <td>0.581654</td>\n",
       "      <td>0.45584</td>\n",
       "      <td>0.499797</td>\n",
       "      <td>57510.492818</td>\n",
       "      <td>0.402769</td>\n",
       "    </tr>\n",
       "    <tr>\n",
       "      <th>min</th>\n",
       "      <td>1.00000</td>\n",
       "      <td>1.556570e+07</td>\n",
       "      <td>350.000000</td>\n",
       "      <td>18.000000</td>\n",
       "      <td>0.000000</td>\n",
       "      <td>0.000000</td>\n",
       "      <td>1.000000</td>\n",
       "      <td>0.00000</td>\n",
       "      <td>0.000000</td>\n",
       "      <td>11.580000</td>\n",
       "      <td>0.000000</td>\n",
       "    </tr>\n",
       "    <tr>\n",
       "      <th>25%</th>\n",
       "      <td>2500.75000</td>\n",
       "      <td>1.562853e+07</td>\n",
       "      <td>584.000000</td>\n",
       "      <td>32.000000</td>\n",
       "      <td>2.000000</td>\n",
       "      <td>0.000000</td>\n",
       "      <td>1.000000</td>\n",
       "      <td>0.00000</td>\n",
       "      <td>0.000000</td>\n",
       "      <td>51002.110000</td>\n",
       "      <td>0.000000</td>\n",
       "    </tr>\n",
       "    <tr>\n",
       "      <th>50%</th>\n",
       "      <td>5000.50000</td>\n",
       "      <td>1.569074e+07</td>\n",
       "      <td>652.000000</td>\n",
       "      <td>37.000000</td>\n",
       "      <td>5.000000</td>\n",
       "      <td>97198.540000</td>\n",
       "      <td>1.000000</td>\n",
       "      <td>1.00000</td>\n",
       "      <td>1.000000</td>\n",
       "      <td>100193.915000</td>\n",
       "      <td>0.000000</td>\n",
       "    </tr>\n",
       "    <tr>\n",
       "      <th>75%</th>\n",
       "      <td>7500.25000</td>\n",
       "      <td>1.575323e+07</td>\n",
       "      <td>718.000000</td>\n",
       "      <td>44.000000</td>\n",
       "      <td>7.000000</td>\n",
       "      <td>127644.240000</td>\n",
       "      <td>2.000000</td>\n",
       "      <td>1.00000</td>\n",
       "      <td>1.000000</td>\n",
       "      <td>149388.247500</td>\n",
       "      <td>0.000000</td>\n",
       "    </tr>\n",
       "    <tr>\n",
       "      <th>max</th>\n",
       "      <td>10000.00000</td>\n",
       "      <td>1.581569e+07</td>\n",
       "      <td>850.000000</td>\n",
       "      <td>92.000000</td>\n",
       "      <td>10.000000</td>\n",
       "      <td>250898.090000</td>\n",
       "      <td>4.000000</td>\n",
       "      <td>1.00000</td>\n",
       "      <td>1.000000</td>\n",
       "      <td>199992.480000</td>\n",
       "      <td>1.000000</td>\n",
       "    </tr>\n",
       "  </tbody>\n",
       "</table>\n",
       "</div>"
      ],
      "text/plain": [
       "         RowNumber    CustomerId   CreditScore           Age       Tenure  \\\n",
       "count  10000.00000  1.000000e+04  10000.000000  10000.000000  9091.000000   \n",
       "mean    5000.50000  1.569094e+07    650.528800     38.921800     4.997690   \n",
       "std     2886.89568  7.193619e+04     96.653299     10.487806     2.894723   \n",
       "min        1.00000  1.556570e+07    350.000000     18.000000     0.000000   \n",
       "25%     2500.75000  1.562853e+07    584.000000     32.000000     2.000000   \n",
       "50%     5000.50000  1.569074e+07    652.000000     37.000000     5.000000   \n",
       "75%     7500.25000  1.575323e+07    718.000000     44.000000     7.000000   \n",
       "max    10000.00000  1.581569e+07    850.000000     92.000000    10.000000   \n",
       "\n",
       "             Balance  NumOfProducts    HasCrCard  IsActiveMember  \\\n",
       "count   10000.000000   10000.000000  10000.00000    10000.000000   \n",
       "mean    76485.889288       1.530200      0.70550        0.515100   \n",
       "std     62397.405202       0.581654      0.45584        0.499797   \n",
       "min         0.000000       1.000000      0.00000        0.000000   \n",
       "25%         0.000000       1.000000      0.00000        0.000000   \n",
       "50%     97198.540000       1.000000      1.00000        1.000000   \n",
       "75%    127644.240000       2.000000      1.00000        1.000000   \n",
       "max    250898.090000       4.000000      1.00000        1.000000   \n",
       "\n",
       "       EstimatedSalary        Exited  \n",
       "count     10000.000000  10000.000000  \n",
       "mean     100090.239881      0.203700  \n",
       "std       57510.492818      0.402769  \n",
       "min          11.580000      0.000000  \n",
       "25%       51002.110000      0.000000  \n",
       "50%      100193.915000      0.000000  \n",
       "75%      149388.247500      0.000000  \n",
       "max      199992.480000      1.000000  "
      ]
     },
     "execution_count": 5,
     "metadata": {},
     "output_type": "execute_result"
    }
   ],
   "source": [
    "df.describe()"
   ]
  },
  {
   "cell_type": "markdown",
   "metadata": {},
   "source": [
    "Описание полей таблицы:<br>\n",
    "Признаки<br>\n",
    "•\tRowNumber — индекс строки в данных<br>\n",
    "•\tCustomerId — уникальный идентификатор клиента<br>\n",
    "•\tSurname — фамилия<br>\n",
    "•\tCreditScore — кредитный рейтинг<br>\n",
    "•\tGeography — страна проживания<br>\n",
    "•\tGender — пол<br>\n",
    "•\tAge — возраст<br>\n",
    "•\tTenure — сколько лет человек является клиентом банка<br>\n",
    "•\tBalance — баланс на счёте<br>\n",
    "•\tNumOfProducts — количество продуктов банка, используемых клиентом<br>\n",
    "•\tHasCrCard — наличие кредитной карты<br>\n",
    "•\tIsActiveMember — активность клиента<br>\n",
    "•\tEstimatedSalary — предполагаемая зарплата<br>\n",
    "Целевой признак<br>\n",
    "•\tExited — факт ухода клиента, является категориальнвм признаком, следовательно - это задача классификации."
   ]
  },
  {
   "cell_type": "markdown",
   "metadata": {},
   "source": [
    "В таблице 14 столбцов и 10 тыс. записей.<br>\n",
    "Явные пропуски есть в столбце \"Tenure\". Удалять не будем. Заполним нулями, предполагая что это новые клиенты банка:.<br>\n",
    "RowNumber — прописывает номер записи. Ценности для обучения модели нет. Поэтому столбец можно удалить.<br>\n",
    "CustomerId — идентификатор пользователя (проверим наличие дубликатов) и если отсутсвуют — стоблец также можно удалить.<br>\n",
    "Surname — фамилия пользователя. Не несет ценности для качества будущей модели — столбец можно удалить.<br>\n",
    "CreditScore — следует проверить распределение и сохранить данный столбец.<br>\n",
    "Geography — проверим на уникальные значения. Выполнить преобразование OHE / ordinal encoding<br>\n",
    "Gender — значение преобразовать — OHE / ordinal encoding.<br>\n",
    "Age — Exited — тип данных верны, требуется проработка OHE.<br>"
   ]
  },
  {
   "cell_type": "markdown",
   "metadata": {},
   "source": [
    "Заполняем столбец \"Tenure\" нулями:"
   ]
  },
  {
   "cell_type": "code",
   "execution_count": 6,
   "metadata": {},
   "outputs": [],
   "source": [
    "df['Tenure'] = df['Tenure'].fillna(0)"
   ]
  },
  {
   "cell_type": "markdown",
   "metadata": {},
   "source": [
    "Проверим на уникальные значения столбец \"Geography\""
   ]
  },
  {
   "cell_type": "code",
   "execution_count": 7,
   "metadata": {},
   "outputs": [
    {
     "data": {
      "text/plain": [
       "array(['France', 'Spain', 'Germany'], dtype=object)"
      ]
     },
     "execution_count": 7,
     "metadata": {},
     "output_type": "execute_result"
    }
   ],
   "source": [
    "df['Geography'].unique()"
   ]
  },
  {
   "cell_type": "markdown",
   "metadata": {},
   "source": [
    "Проверка на дубликаты:"
   ]
  },
  {
   "cell_type": "code",
   "execution_count": 8,
   "metadata": {},
   "outputs": [
    {
     "data": {
      "text/plain": [
       "0"
      ]
     },
     "execution_count": 8,
     "metadata": {},
     "output_type": "execute_result"
    }
   ],
   "source": [
    "df.duplicated().sum()"
   ]
  },
  {
   "cell_type": "code",
   "execution_count": 9,
   "metadata": {},
   "outputs": [
    {
     "data": {
      "text/plain": [
       "10000"
      ]
     },
     "execution_count": 9,
     "metadata": {},
     "output_type": "execute_result"
    }
   ],
   "source": [
    "df['CustomerId'].value_counts().sum()"
   ]
  },
  {
   "cell_type": "markdown",
   "metadata": {},
   "source": [
    "Дубликатов нет. "
   ]
  },
  {
   "cell_type": "markdown",
   "metadata": {},
   "source": [
    "Оптимизируем датафрейм. Уберем лишние столбцы. Подготовим данные методом OHE. Будем использовать следующие модели для решения задачи классификации: деревое решений, случайный лес и логистическую регрессию."
   ]
  },
  {
   "cell_type": "markdown",
   "metadata": {},
   "source": [
    "### Подготовка данных для машинного обучения¶"
   ]
  },
  {
   "cell_type": "code",
   "execution_count": 10,
   "metadata": {},
   "outputs": [
    {
     "data": {
      "text/html": [
       "<div>\n",
       "<style scoped>\n",
       "    .dataframe tbody tr th:only-of-type {\n",
       "        vertical-align: middle;\n",
       "    }\n",
       "\n",
       "    .dataframe tbody tr th {\n",
       "        vertical-align: top;\n",
       "    }\n",
       "\n",
       "    .dataframe thead th {\n",
       "        text-align: right;\n",
       "    }\n",
       "</style>\n",
       "<table border=\"1\" class=\"dataframe\">\n",
       "  <thead>\n",
       "    <tr style=\"text-align: right;\">\n",
       "      <th></th>\n",
       "      <th>CreditScore</th>\n",
       "      <th>Geography</th>\n",
       "      <th>Gender</th>\n",
       "      <th>Age</th>\n",
       "      <th>Tenure</th>\n",
       "      <th>Balance</th>\n",
       "      <th>NumOfProducts</th>\n",
       "      <th>HasCrCard</th>\n",
       "      <th>IsActiveMember</th>\n",
       "      <th>EstimatedSalary</th>\n",
       "      <th>Exited</th>\n",
       "    </tr>\n",
       "  </thead>\n",
       "  <tbody>\n",
       "    <tr>\n",
       "      <th>0</th>\n",
       "      <td>619</td>\n",
       "      <td>France</td>\n",
       "      <td>Female</td>\n",
       "      <td>42</td>\n",
       "      <td>2.0</td>\n",
       "      <td>0.00</td>\n",
       "      <td>1</td>\n",
       "      <td>1</td>\n",
       "      <td>1</td>\n",
       "      <td>101348.88</td>\n",
       "      <td>1</td>\n",
       "    </tr>\n",
       "    <tr>\n",
       "      <th>1</th>\n",
       "      <td>608</td>\n",
       "      <td>Spain</td>\n",
       "      <td>Female</td>\n",
       "      <td>41</td>\n",
       "      <td>1.0</td>\n",
       "      <td>83807.86</td>\n",
       "      <td>1</td>\n",
       "      <td>0</td>\n",
       "      <td>1</td>\n",
       "      <td>112542.58</td>\n",
       "      <td>0</td>\n",
       "    </tr>\n",
       "    <tr>\n",
       "      <th>2</th>\n",
       "      <td>502</td>\n",
       "      <td>France</td>\n",
       "      <td>Female</td>\n",
       "      <td>42</td>\n",
       "      <td>8.0</td>\n",
       "      <td>159660.80</td>\n",
       "      <td>3</td>\n",
       "      <td>1</td>\n",
       "      <td>0</td>\n",
       "      <td>113931.57</td>\n",
       "      <td>1</td>\n",
       "    </tr>\n",
       "    <tr>\n",
       "      <th>3</th>\n",
       "      <td>699</td>\n",
       "      <td>France</td>\n",
       "      <td>Female</td>\n",
       "      <td>39</td>\n",
       "      <td>1.0</td>\n",
       "      <td>0.00</td>\n",
       "      <td>2</td>\n",
       "      <td>0</td>\n",
       "      <td>0</td>\n",
       "      <td>93826.63</td>\n",
       "      <td>0</td>\n",
       "    </tr>\n",
       "    <tr>\n",
       "      <th>4</th>\n",
       "      <td>850</td>\n",
       "      <td>Spain</td>\n",
       "      <td>Female</td>\n",
       "      <td>43</td>\n",
       "      <td>2.0</td>\n",
       "      <td>125510.82</td>\n",
       "      <td>1</td>\n",
       "      <td>1</td>\n",
       "      <td>1</td>\n",
       "      <td>79084.10</td>\n",
       "      <td>0</td>\n",
       "    </tr>\n",
       "  </tbody>\n",
       "</table>\n",
       "</div>"
      ],
      "text/plain": [
       "   CreditScore Geography  Gender  Age  Tenure    Balance  NumOfProducts  \\\n",
       "0          619    France  Female   42     2.0       0.00              1   \n",
       "1          608     Spain  Female   41     1.0   83807.86              1   \n",
       "2          502    France  Female   42     8.0  159660.80              3   \n",
       "3          699    France  Female   39     1.0       0.00              2   \n",
       "4          850     Spain  Female   43     2.0  125510.82              1   \n",
       "\n",
       "   HasCrCard  IsActiveMember  EstimatedSalary  Exited  \n",
       "0          1               1        101348.88       1  \n",
       "1          0               1        112542.58       0  \n",
       "2          1               0        113931.57       1  \n",
       "3          0               0         93826.63       0  \n",
       "4          1               1         79084.10       0  "
      ]
     },
     "execution_count": 10,
     "metadata": {},
     "output_type": "execute_result"
    }
   ],
   "source": [
    "#Преобразуем данные в новый датафрейм \"df_ml\" — данные для машинного обучения\n",
    "#Удалим столбцы,которые не представляют ценности для обучения модели \n",
    "#drop_colunms = ['RowNumber','CustomerId', 'Surname']\n",
    "drop_colunms = ['RowNumber','CustomerId', 'Surname']\n",
    "df_ml = df.drop(drop_colunms, axis=1)\n",
    "df_ml.head(5)"
   ]
  },
  {
   "cell_type": "code",
   "execution_count": 11,
   "metadata": {},
   "outputs": [
    {
     "data": {
      "text/plain": [
       "(10000, 11)"
      ]
     },
     "execution_count": 11,
     "metadata": {},
     "output_type": "execute_result"
    }
   ],
   "source": [
    "# узнаем размер датафрейма\n",
    "df_ml.shape"
   ]
  },
  {
   "cell_type": "markdown",
   "metadata": {},
   "source": [
    "Подготовим данные методом OHE. Это позволит использовать модели: деревое решений, случайный лес и логистическую регрессию."
   ]
  },
  {
   "cell_type": "code",
   "execution_count": 12,
   "metadata": {},
   "outputs": [
    {
     "data": {
      "text/html": [
       "<div>\n",
       "<style scoped>\n",
       "    .dataframe tbody tr th:only-of-type {\n",
       "        vertical-align: middle;\n",
       "    }\n",
       "\n",
       "    .dataframe tbody tr th {\n",
       "        vertical-align: top;\n",
       "    }\n",
       "\n",
       "    .dataframe thead th {\n",
       "        text-align: right;\n",
       "    }\n",
       "</style>\n",
       "<table border=\"1\" class=\"dataframe\">\n",
       "  <thead>\n",
       "    <tr style=\"text-align: right;\">\n",
       "      <th></th>\n",
       "      <th>CreditScore</th>\n",
       "      <th>Age</th>\n",
       "      <th>Tenure</th>\n",
       "      <th>Balance</th>\n",
       "      <th>NumOfProducts</th>\n",
       "      <th>HasCrCard</th>\n",
       "      <th>IsActiveMember</th>\n",
       "      <th>EstimatedSalary</th>\n",
       "      <th>Exited</th>\n",
       "      <th>Geography_Germany</th>\n",
       "      <th>Geography_Spain</th>\n",
       "      <th>Gender_Male</th>\n",
       "    </tr>\n",
       "  </thead>\n",
       "  <tbody>\n",
       "    <tr>\n",
       "      <th>0</th>\n",
       "      <td>619</td>\n",
       "      <td>42</td>\n",
       "      <td>2.0</td>\n",
       "      <td>0.00</td>\n",
       "      <td>1</td>\n",
       "      <td>1</td>\n",
       "      <td>1</td>\n",
       "      <td>101348.88</td>\n",
       "      <td>1</td>\n",
       "      <td>0</td>\n",
       "      <td>0</td>\n",
       "      <td>0</td>\n",
       "    </tr>\n",
       "    <tr>\n",
       "      <th>1</th>\n",
       "      <td>608</td>\n",
       "      <td>41</td>\n",
       "      <td>1.0</td>\n",
       "      <td>83807.86</td>\n",
       "      <td>1</td>\n",
       "      <td>0</td>\n",
       "      <td>1</td>\n",
       "      <td>112542.58</td>\n",
       "      <td>0</td>\n",
       "      <td>0</td>\n",
       "      <td>1</td>\n",
       "      <td>0</td>\n",
       "    </tr>\n",
       "    <tr>\n",
       "      <th>2</th>\n",
       "      <td>502</td>\n",
       "      <td>42</td>\n",
       "      <td>8.0</td>\n",
       "      <td>159660.80</td>\n",
       "      <td>3</td>\n",
       "      <td>1</td>\n",
       "      <td>0</td>\n",
       "      <td>113931.57</td>\n",
       "      <td>1</td>\n",
       "      <td>0</td>\n",
       "      <td>0</td>\n",
       "      <td>0</td>\n",
       "    </tr>\n",
       "    <tr>\n",
       "      <th>3</th>\n",
       "      <td>699</td>\n",
       "      <td>39</td>\n",
       "      <td>1.0</td>\n",
       "      <td>0.00</td>\n",
       "      <td>2</td>\n",
       "      <td>0</td>\n",
       "      <td>0</td>\n",
       "      <td>93826.63</td>\n",
       "      <td>0</td>\n",
       "      <td>0</td>\n",
       "      <td>0</td>\n",
       "      <td>0</td>\n",
       "    </tr>\n",
       "    <tr>\n",
       "      <th>4</th>\n",
       "      <td>850</td>\n",
       "      <td>43</td>\n",
       "      <td>2.0</td>\n",
       "      <td>125510.82</td>\n",
       "      <td>1</td>\n",
       "      <td>1</td>\n",
       "      <td>1</td>\n",
       "      <td>79084.10</td>\n",
       "      <td>0</td>\n",
       "      <td>0</td>\n",
       "      <td>1</td>\n",
       "      <td>0</td>\n",
       "    </tr>\n",
       "  </tbody>\n",
       "</table>\n",
       "</div>"
      ],
      "text/plain": [
       "   CreditScore  Age  Tenure    Balance  NumOfProducts  HasCrCard  \\\n",
       "0          619   42     2.0       0.00              1          1   \n",
       "1          608   41     1.0   83807.86              1          0   \n",
       "2          502   42     8.0  159660.80              3          1   \n",
       "3          699   39     1.0       0.00              2          0   \n",
       "4          850   43     2.0  125510.82              1          1   \n",
       "\n",
       "   IsActiveMember  EstimatedSalary  Exited  Geography_Germany  \\\n",
       "0               1        101348.88       1                  0   \n",
       "1               1        112542.58       0                  0   \n",
       "2               0        113931.57       1                  0   \n",
       "3               0         93826.63       0                  0   \n",
       "4               1         79084.10       0                  0   \n",
       "\n",
       "   Geography_Spain  Gender_Male  \n",
       "0                0            0  \n",
       "1                1            0  \n",
       "2                0            0  \n",
       "3                0            0  \n",
       "4                1            0  "
      ]
     },
     "execution_count": 12,
     "metadata": {},
     "output_type": "execute_result"
    }
   ],
   "source": [
    "df_ml = pd.get_dummies(df_ml, drop_first=True)\n",
    "df_ml.head()"
   ]
  },
  {
   "cell_type": "code",
   "execution_count": 13,
   "metadata": {},
   "outputs": [
    {
     "data": {
      "text/plain": [
       "(10000, 12)"
      ]
     },
     "execution_count": 13,
     "metadata": {},
     "output_type": "execute_result"
    }
   ],
   "source": [
    "# узнаем размер датафрейма после преобразования\n",
    "df_ml.shape"
   ]
  },
  {
   "cell_type": "markdown",
   "metadata": {},
   "source": [
    "В новом датафрейме теперь 12 столбцов.\n",
    "Столбец \"Geography\" содержал 3 класса ('France', 'Spain', 'Germany'), \"Gender\" ('Female', 'Male') 2 класса — в результате мы получили только 2 и 1 столбцов соответственно, что позволяет избежать дамми-ловушки."
   ]
  },
  {
   "cell_type": "markdown",
   "metadata": {},
   "source": [
    "### Формирование выборок: обучающая, валидационная, тестовая"
   ]
  },
  {
   "cell_type": "markdown",
   "metadata": {},
   "source": [
    "Выделим из полученных данных три выборки. Для этого определим обучающую выборку в 60% данных, по 20% на валидационную и тестовую выборки соответсвенно."
   ]
  },
  {
   "cell_type": "code",
   "execution_count": 14,
   "metadata": {},
   "outputs": [],
   "source": [
    "# выделим признаки и целевой признак\n",
    "features = df_ml.drop('Exited', axis=1) # признаки и целевой признак\n",
    "target = df_ml['Exited'] # целевой признак"
   ]
  },
  {
   "cell_type": "code",
   "execution_count": 15,
   "metadata": {},
   "outputs": [
    {
     "data": {
      "text/html": [
       "<div>\n",
       "<style scoped>\n",
       "    .dataframe tbody tr th:only-of-type {\n",
       "        vertical-align: middle;\n",
       "    }\n",
       "\n",
       "    .dataframe tbody tr th {\n",
       "        vertical-align: top;\n",
       "    }\n",
       "\n",
       "    .dataframe thead th {\n",
       "        text-align: right;\n",
       "    }\n",
       "</style>\n",
       "<table border=\"1\" class=\"dataframe\">\n",
       "  <thead>\n",
       "    <tr style=\"text-align: right;\">\n",
       "      <th></th>\n",
       "      <th>CreditScore</th>\n",
       "      <th>Age</th>\n",
       "      <th>Tenure</th>\n",
       "      <th>Balance</th>\n",
       "      <th>NumOfProducts</th>\n",
       "      <th>HasCrCard</th>\n",
       "      <th>IsActiveMember</th>\n",
       "      <th>EstimatedSalary</th>\n",
       "      <th>Geography_Germany</th>\n",
       "      <th>Geography_Spain</th>\n",
       "      <th>Gender_Male</th>\n",
       "    </tr>\n",
       "  </thead>\n",
       "  <tbody>\n",
       "    <tr>\n",
       "      <th>0</th>\n",
       "      <td>619</td>\n",
       "      <td>42</td>\n",
       "      <td>2.0</td>\n",
       "      <td>0.00</td>\n",
       "      <td>1</td>\n",
       "      <td>1</td>\n",
       "      <td>1</td>\n",
       "      <td>101348.88</td>\n",
       "      <td>0</td>\n",
       "      <td>0</td>\n",
       "      <td>0</td>\n",
       "    </tr>\n",
       "    <tr>\n",
       "      <th>1</th>\n",
       "      <td>608</td>\n",
       "      <td>41</td>\n",
       "      <td>1.0</td>\n",
       "      <td>83807.86</td>\n",
       "      <td>1</td>\n",
       "      <td>0</td>\n",
       "      <td>1</td>\n",
       "      <td>112542.58</td>\n",
       "      <td>0</td>\n",
       "      <td>1</td>\n",
       "      <td>0</td>\n",
       "    </tr>\n",
       "    <tr>\n",
       "      <th>2</th>\n",
       "      <td>502</td>\n",
       "      <td>42</td>\n",
       "      <td>8.0</td>\n",
       "      <td>159660.80</td>\n",
       "      <td>3</td>\n",
       "      <td>1</td>\n",
       "      <td>0</td>\n",
       "      <td>113931.57</td>\n",
       "      <td>0</td>\n",
       "      <td>0</td>\n",
       "      <td>0</td>\n",
       "    </tr>\n",
       "    <tr>\n",
       "      <th>3</th>\n",
       "      <td>699</td>\n",
       "      <td>39</td>\n",
       "      <td>1.0</td>\n",
       "      <td>0.00</td>\n",
       "      <td>2</td>\n",
       "      <td>0</td>\n",
       "      <td>0</td>\n",
       "      <td>93826.63</td>\n",
       "      <td>0</td>\n",
       "      <td>0</td>\n",
       "      <td>0</td>\n",
       "    </tr>\n",
       "    <tr>\n",
       "      <th>4</th>\n",
       "      <td>850</td>\n",
       "      <td>43</td>\n",
       "      <td>2.0</td>\n",
       "      <td>125510.82</td>\n",
       "      <td>1</td>\n",
       "      <td>1</td>\n",
       "      <td>1</td>\n",
       "      <td>79084.10</td>\n",
       "      <td>0</td>\n",
       "      <td>1</td>\n",
       "      <td>0</td>\n",
       "    </tr>\n",
       "  </tbody>\n",
       "</table>\n",
       "</div>"
      ],
      "text/plain": [
       "   CreditScore  Age  Tenure    Balance  NumOfProducts  HasCrCard  \\\n",
       "0          619   42     2.0       0.00              1          1   \n",
       "1          608   41     1.0   83807.86              1          0   \n",
       "2          502   42     8.0  159660.80              3          1   \n",
       "3          699   39     1.0       0.00              2          0   \n",
       "4          850   43     2.0  125510.82              1          1   \n",
       "\n",
       "   IsActiveMember  EstimatedSalary  Geography_Germany  Geography_Spain  \\\n",
       "0               1        101348.88                  0                0   \n",
       "1               1        112542.58                  0                1   \n",
       "2               0        113931.57                  0                0   \n",
       "3               0         93826.63                  0                0   \n",
       "4               1         79084.10                  0                1   \n",
       "\n",
       "   Gender_Male  \n",
       "0            0  \n",
       "1            0  \n",
       "2            0  \n",
       "3            0  \n",
       "4            0  "
      ]
     },
     "execution_count": 15,
     "metadata": {},
     "output_type": "execute_result"
    }
   ],
   "source": [
    "features.head()"
   ]
  },
  {
   "cell_type": "code",
   "execution_count": 16,
   "metadata": {},
   "outputs": [
    {
     "data": {
      "text/plain": [
       "0    1\n",
       "1    0\n",
       "2    1\n",
       "3    0\n",
       "4    0\n",
       "Name: Exited, dtype: int64"
      ]
     },
     "execution_count": 16,
     "metadata": {},
     "output_type": "execute_result"
    }
   ],
   "source": [
    "target.head()"
   ]
  },
  {
   "cell_type": "code",
   "execution_count": 17,
   "metadata": {},
   "outputs": [],
   "source": [
    "#отделяем обучающую выборку из данных (соотношение 60% -обучающая, 40% на сумму тестовой и валидационной выборки)\n",
    "features_train, features_valid_test, target_train, target_valid_test = train_test_split(features,\n",
    "                                                    target,\n",
    "                                                    train_size=0.6,\n",
    "                                                    random_state=12345, \n",
    "                                                    stratify=target)"
   ]
  },
  {
   "cell_type": "code",
   "execution_count": 18,
   "metadata": {},
   "outputs": [],
   "source": [
    "#отделяем тестовую и валидационную выборку, делим поровну\n",
    "features_valid, features_test, target_valid, target_test = train_test_split(features_valid_test,\n",
    "                                                    target_valid_test,\n",
    "                                                    train_size=0.5,\n",
    "                                                    random_state=12345, \n",
    "                                                    stratify=target_valid_test)"
   ]
  },
  {
   "cell_type": "code",
   "execution_count": 19,
   "metadata": {},
   "outputs": [
    {
     "name": "stdout",
     "output_type": "stream",
     "text": [
      "Признаки тренировочной выборки (6000, 11)\n",
      "Целевой признак тренировочной выборки (6000,)\n",
      "Признаки валидационной выборки (2000, 11)\n",
      "Целевой признак валидационной выборки (2000,)\n",
      "Признаки тествой выборки (2000, 11)\n",
      "Целевой признак тествой выборки (2000,)\n"
     ]
    }
   ],
   "source": [
    "# Результат деления на выборки:\n",
    "print(\"Признаки тренировочной выборки\", features_train.shape)\n",
    "print(\"Целевой признак тренировочной выборки\", target_train.shape)\n",
    "print(\"Признаки валидационной выборки\",features_valid.shape)\n",
    "print(\"Целевой признак валидационной выборки\", target_valid.shape)\n",
    "print(\"Признаки тествой выборки\", features_test.shape)\n",
    "print(\"Целевой признак тествой выборки\", target_test.shape)"
   ]
  },
  {
   "cell_type": "markdown",
   "metadata": {},
   "source": [
    "Таким образом получили три выборки:<br>\n",
    "\n",
    "Обучающая:features_train, target_train<br>\n",
    "Валидационная: features_valid, target_valid<br>\n",
    "Тестовая: features_test, target_test<br>"
   ]
  },
  {
   "cell_type": "markdown",
   "metadata": {},
   "source": [
    "### Масштабирование признаков"
   ]
  },
  {
   "cell_type": "code",
   "execution_count": 20,
   "metadata": {},
   "outputs": [
    {
     "data": {
      "text/html": [
       "<div>\n",
       "<style scoped>\n",
       "    .dataframe tbody tr th:only-of-type {\n",
       "        vertical-align: middle;\n",
       "    }\n",
       "\n",
       "    .dataframe tbody tr th {\n",
       "        vertical-align: top;\n",
       "    }\n",
       "\n",
       "    .dataframe thead th {\n",
       "        text-align: right;\n",
       "    }\n",
       "</style>\n",
       "<table border=\"1\" class=\"dataframe\">\n",
       "  <thead>\n",
       "    <tr style=\"text-align: right;\">\n",
       "      <th></th>\n",
       "      <th>CreditScore</th>\n",
       "      <th>Age</th>\n",
       "      <th>Tenure</th>\n",
       "      <th>Balance</th>\n",
       "      <th>NumOfProducts</th>\n",
       "      <th>HasCrCard</th>\n",
       "      <th>IsActiveMember</th>\n",
       "      <th>EstimatedSalary</th>\n",
       "      <th>Geography_Germany</th>\n",
       "      <th>Geography_Spain</th>\n",
       "      <th>Gender_Male</th>\n",
       "    </tr>\n",
       "  </thead>\n",
       "  <tbody>\n",
       "    <tr>\n",
       "      <th>2837</th>\n",
       "      <td>549</td>\n",
       "      <td>49</td>\n",
       "      <td>6.0</td>\n",
       "      <td>124829.16</td>\n",
       "      <td>1</td>\n",
       "      <td>0</td>\n",
       "      <td>1</td>\n",
       "      <td>93551.36</td>\n",
       "      <td>1</td>\n",
       "      <td>0</td>\n",
       "      <td>0</td>\n",
       "    </tr>\n",
       "    <tr>\n",
       "      <th>9925</th>\n",
       "      <td>694</td>\n",
       "      <td>38</td>\n",
       "      <td>0.0</td>\n",
       "      <td>195926.39</td>\n",
       "      <td>1</td>\n",
       "      <td>1</td>\n",
       "      <td>1</td>\n",
       "      <td>85522.84</td>\n",
       "      <td>0</td>\n",
       "      <td>0</td>\n",
       "      <td>0</td>\n",
       "    </tr>\n",
       "    <tr>\n",
       "      <th>8746</th>\n",
       "      <td>660</td>\n",
       "      <td>34</td>\n",
       "      <td>8.0</td>\n",
       "      <td>106486.66</td>\n",
       "      <td>2</td>\n",
       "      <td>0</td>\n",
       "      <td>1</td>\n",
       "      <td>182262.66</td>\n",
       "      <td>0</td>\n",
       "      <td>0</td>\n",
       "      <td>1</td>\n",
       "    </tr>\n",
       "    <tr>\n",
       "      <th>660</th>\n",
       "      <td>632</td>\n",
       "      <td>41</td>\n",
       "      <td>0.0</td>\n",
       "      <td>81877.38</td>\n",
       "      <td>1</td>\n",
       "      <td>1</td>\n",
       "      <td>1</td>\n",
       "      <td>33642.21</td>\n",
       "      <td>1</td>\n",
       "      <td>0</td>\n",
       "      <td>0</td>\n",
       "    </tr>\n",
       "    <tr>\n",
       "      <th>3610</th>\n",
       "      <td>580</td>\n",
       "      <td>56</td>\n",
       "      <td>1.0</td>\n",
       "      <td>131368.30</td>\n",
       "      <td>1</td>\n",
       "      <td>1</td>\n",
       "      <td>0</td>\n",
       "      <td>106918.67</td>\n",
       "      <td>0</td>\n",
       "      <td>0</td>\n",
       "      <td>0</td>\n",
       "    </tr>\n",
       "  </tbody>\n",
       "</table>\n",
       "</div>"
      ],
      "text/plain": [
       "      CreditScore  Age  Tenure    Balance  NumOfProducts  HasCrCard  \\\n",
       "2837          549   49     6.0  124829.16              1          0   \n",
       "9925          694   38     0.0  195926.39              1          1   \n",
       "8746          660   34     8.0  106486.66              2          0   \n",
       "660           632   41     0.0   81877.38              1          1   \n",
       "3610          580   56     1.0  131368.30              1          1   \n",
       "\n",
       "      IsActiveMember  EstimatedSalary  Geography_Germany  Geography_Spain  \\\n",
       "2837               1         93551.36                  1                0   \n",
       "9925               1         85522.84                  0                0   \n",
       "8746               1        182262.66                  0                0   \n",
       "660                1         33642.21                  1                0   \n",
       "3610               0        106918.67                  0                0   \n",
       "\n",
       "      Gender_Male  \n",
       "2837            0  \n",
       "9925            0  \n",
       "8746            1  \n",
       "660             0  \n",
       "3610            0  "
      ]
     },
     "execution_count": 20,
     "metadata": {},
     "output_type": "execute_result"
    }
   ],
   "source": [
    "features_train.head()"
   ]
  },
  {
   "cell_type": "code",
   "execution_count": 21,
   "metadata": {},
   "outputs": [],
   "source": [
    "#Для масштабирования зафиксируем численные признаки\n",
    "numeric = ['CreditScore', 'Age', 'Tenure', 'Balance', 'NumOfProducts', 'EstimatedSalary']"
   ]
  },
  {
   "cell_type": "code",
   "execution_count": 22,
   "metadata": {},
   "outputs": [],
   "source": [
    "#Создадим объект этой структуры и настроим его на обучающих данных:\n",
    "scaler = StandardScaler()\n",
    "scaler.fit(features_train[numeric])\n",
    "StandardScaler(copy=True, with_mean=True, with_std=True)\n",
    "pd.options.mode.chained_assignment = None"
   ]
  },
  {
   "cell_type": "code",
   "execution_count": 23,
   "metadata": {},
   "outputs": [
    {
     "data": {
      "text/html": [
       "<div>\n",
       "<style scoped>\n",
       "    .dataframe tbody tr th:only-of-type {\n",
       "        vertical-align: middle;\n",
       "    }\n",
       "\n",
       "    .dataframe tbody tr th {\n",
       "        vertical-align: top;\n",
       "    }\n",
       "\n",
       "    .dataframe thead th {\n",
       "        text-align: right;\n",
       "    }\n",
       "</style>\n",
       "<table border=\"1\" class=\"dataframe\">\n",
       "  <thead>\n",
       "    <tr style=\"text-align: right;\">\n",
       "      <th></th>\n",
       "      <th>CreditScore</th>\n",
       "      <th>Age</th>\n",
       "      <th>Tenure</th>\n",
       "      <th>Balance</th>\n",
       "      <th>NumOfProducts</th>\n",
       "      <th>HasCrCard</th>\n",
       "      <th>IsActiveMember</th>\n",
       "      <th>EstimatedSalary</th>\n",
       "      <th>Geography_Germany</th>\n",
       "      <th>Geography_Spain</th>\n",
       "      <th>Gender_Male</th>\n",
       "    </tr>\n",
       "  </thead>\n",
       "  <tbody>\n",
       "    <tr>\n",
       "      <th>2837</th>\n",
       "      <td>-1.040434</td>\n",
       "      <td>0.953312</td>\n",
       "      <td>0.467449</td>\n",
       "      <td>0.774657</td>\n",
       "      <td>-0.914708</td>\n",
       "      <td>0</td>\n",
       "      <td>1</td>\n",
       "      <td>-0.119110</td>\n",
       "      <td>1</td>\n",
       "      <td>0</td>\n",
       "      <td>0</td>\n",
       "    </tr>\n",
       "    <tr>\n",
       "      <th>9925</th>\n",
       "      <td>0.454006</td>\n",
       "      <td>-0.095244</td>\n",
       "      <td>-1.461501</td>\n",
       "      <td>1.910540</td>\n",
       "      <td>-0.914708</td>\n",
       "      <td>1</td>\n",
       "      <td>1</td>\n",
       "      <td>-0.258658</td>\n",
       "      <td>0</td>\n",
       "      <td>0</td>\n",
       "      <td>0</td>\n",
       "    </tr>\n",
       "    <tr>\n",
       "      <th>8746</th>\n",
       "      <td>0.103585</td>\n",
       "      <td>-0.476537</td>\n",
       "      <td>1.110432</td>\n",
       "      <td>0.481608</td>\n",
       "      <td>0.820981</td>\n",
       "      <td>0</td>\n",
       "      <td>1</td>\n",
       "      <td>1.422836</td>\n",
       "      <td>0</td>\n",
       "      <td>0</td>\n",
       "      <td>1</td>\n",
       "    </tr>\n",
       "    <tr>\n",
       "      <th>660</th>\n",
       "      <td>-0.184996</td>\n",
       "      <td>0.190726</td>\n",
       "      <td>-1.461501</td>\n",
       "      <td>0.088439</td>\n",
       "      <td>-0.914708</td>\n",
       "      <td>1</td>\n",
       "      <td>1</td>\n",
       "      <td>-1.160427</td>\n",
       "      <td>1</td>\n",
       "      <td>0</td>\n",
       "      <td>0</td>\n",
       "    </tr>\n",
       "    <tr>\n",
       "      <th>3610</th>\n",
       "      <td>-0.720933</td>\n",
       "      <td>1.620574</td>\n",
       "      <td>-1.140009</td>\n",
       "      <td>0.879129</td>\n",
       "      <td>-0.914708</td>\n",
       "      <td>1</td>\n",
       "      <td>0</td>\n",
       "      <td>0.113236</td>\n",
       "      <td>0</td>\n",
       "      <td>0</td>\n",
       "      <td>0</td>\n",
       "    </tr>\n",
       "  </tbody>\n",
       "</table>\n",
       "</div>"
      ],
      "text/plain": [
       "      CreditScore       Age    Tenure   Balance  NumOfProducts  HasCrCard  \\\n",
       "2837    -1.040434  0.953312  0.467449  0.774657      -0.914708          0   \n",
       "9925     0.454006 -0.095244 -1.461501  1.910540      -0.914708          1   \n",
       "8746     0.103585 -0.476537  1.110432  0.481608       0.820981          0   \n",
       "660     -0.184996  0.190726 -1.461501  0.088439      -0.914708          1   \n",
       "3610    -0.720933  1.620574 -1.140009  0.879129      -0.914708          1   \n",
       "\n",
       "      IsActiveMember  EstimatedSalary  Geography_Germany  Geography_Spain  \\\n",
       "2837               1        -0.119110                  1                0   \n",
       "9925               1        -0.258658                  0                0   \n",
       "8746               1         1.422836                  0                0   \n",
       "660                1        -1.160427                  1                0   \n",
       "3610               0         0.113236                  0                0   \n",
       "\n",
       "      Gender_Male  \n",
       "2837            0  \n",
       "9925            0  \n",
       "8746            1  \n",
       "660             0  \n",
       "3610            0  "
      ]
     },
     "execution_count": 23,
     "metadata": {},
     "output_type": "execute_result"
    }
   ],
   "source": [
    "#Масштабируем численные признаки обучающей выборки \n",
    "features_train[numeric] = scaler.transform(features_train[numeric])\n",
    "features_train.head()"
   ]
  },
  {
   "cell_type": "code",
   "execution_count": 24,
   "metadata": {},
   "outputs": [
    {
     "data": {
      "text/html": [
       "<div>\n",
       "<style scoped>\n",
       "    .dataframe tbody tr th:only-of-type {\n",
       "        vertical-align: middle;\n",
       "    }\n",
       "\n",
       "    .dataframe tbody tr th {\n",
       "        vertical-align: top;\n",
       "    }\n",
       "\n",
       "    .dataframe thead th {\n",
       "        text-align: right;\n",
       "    }\n",
       "</style>\n",
       "<table border=\"1\" class=\"dataframe\">\n",
       "  <thead>\n",
       "    <tr style=\"text-align: right;\">\n",
       "      <th></th>\n",
       "      <th>CreditScore</th>\n",
       "      <th>Age</th>\n",
       "      <th>Tenure</th>\n",
       "      <th>Balance</th>\n",
       "      <th>NumOfProducts</th>\n",
       "      <th>HasCrCard</th>\n",
       "      <th>IsActiveMember</th>\n",
       "      <th>EstimatedSalary</th>\n",
       "      <th>Geography_Germany</th>\n",
       "      <th>Geography_Spain</th>\n",
       "      <th>Gender_Male</th>\n",
       "    </tr>\n",
       "  </thead>\n",
       "  <tbody>\n",
       "    <tr>\n",
       "      <th>6612</th>\n",
       "      <td>-1.524838</td>\n",
       "      <td>2.383160</td>\n",
       "      <td>-0.497026</td>\n",
       "      <td>1.011655</td>\n",
       "      <td>-0.914708</td>\n",
       "      <td>0</td>\n",
       "      <td>1</td>\n",
       "      <td>0.010275</td>\n",
       "      <td>0</td>\n",
       "      <td>0</td>\n",
       "      <td>0</td>\n",
       "    </tr>\n",
       "    <tr>\n",
       "      <th>519</th>\n",
       "      <td>0.587990</td>\n",
       "      <td>1.811221</td>\n",
       "      <td>0.467449</td>\n",
       "      <td>0.213192</td>\n",
       "      <td>-0.914708</td>\n",
       "      <td>0</td>\n",
       "      <td>1</td>\n",
       "      <td>0.453089</td>\n",
       "      <td>0</td>\n",
       "      <td>0</td>\n",
       "      <td>1</td>\n",
       "    </tr>\n",
       "    <tr>\n",
       "      <th>1609</th>\n",
       "      <td>-0.318980</td>\n",
       "      <td>-0.381213</td>\n",
       "      <td>1.110432</td>\n",
       "      <td>0.893896</td>\n",
       "      <td>-0.914708</td>\n",
       "      <td>1</td>\n",
       "      <td>0</td>\n",
       "      <td>-0.603508</td>\n",
       "      <td>0</td>\n",
       "      <td>0</td>\n",
       "      <td>0</td>\n",
       "    </tr>\n",
       "    <tr>\n",
       "      <th>3475</th>\n",
       "      <td>1.226991</td>\n",
       "      <td>-0.762506</td>\n",
       "      <td>-0.175534</td>\n",
       "      <td>-0.240363</td>\n",
       "      <td>0.820981</td>\n",
       "      <td>1</td>\n",
       "      <td>1</td>\n",
       "      <td>-1.621460</td>\n",
       "      <td>0</td>\n",
       "      <td>0</td>\n",
       "      <td>1</td>\n",
       "    </tr>\n",
       "    <tr>\n",
       "      <th>2707</th>\n",
       "      <td>-0.133464</td>\n",
       "      <td>-0.095244</td>\n",
       "      <td>-0.497026</td>\n",
       "      <td>0.447305</td>\n",
       "      <td>-0.914708</td>\n",
       "      <td>0</td>\n",
       "      <td>0</td>\n",
       "      <td>0.338574</td>\n",
       "      <td>0</td>\n",
       "      <td>0</td>\n",
       "      <td>0</td>\n",
       "    </tr>\n",
       "  </tbody>\n",
       "</table>\n",
       "</div>"
      ],
      "text/plain": [
       "      CreditScore       Age    Tenure   Balance  NumOfProducts  HasCrCard  \\\n",
       "6612    -1.524838  2.383160 -0.497026  1.011655      -0.914708          0   \n",
       "519      0.587990  1.811221  0.467449  0.213192      -0.914708          0   \n",
       "1609    -0.318980 -0.381213  1.110432  0.893896      -0.914708          1   \n",
       "3475     1.226991 -0.762506 -0.175534 -0.240363       0.820981          1   \n",
       "2707    -0.133464 -0.095244 -0.497026  0.447305      -0.914708          0   \n",
       "\n",
       "      IsActiveMember  EstimatedSalary  Geography_Germany  Geography_Spain  \\\n",
       "6612               1         0.010275                  0                0   \n",
       "519                1         0.453089                  0                0   \n",
       "1609               0        -0.603508                  0                0   \n",
       "3475               1        -1.621460                  0                0   \n",
       "2707               0         0.338574                  0                0   \n",
       "\n",
       "      Gender_Male  \n",
       "6612            0  \n",
       "519             1  \n",
       "1609            0  \n",
       "3475            1  \n",
       "2707            0  "
      ]
     },
     "execution_count": 24,
     "metadata": {},
     "output_type": "execute_result"
    }
   ],
   "source": [
    "#Масштабируем численные признаки валидационной выборки \n",
    "features_valid[numeric] = scaler.transform(features_valid[numeric])\n",
    "features_valid.head()"
   ]
  },
  {
   "cell_type": "code",
   "execution_count": 25,
   "metadata": {},
   "outputs": [
    {
     "data": {
      "text/html": [
       "<div>\n",
       "<style scoped>\n",
       "    .dataframe tbody tr th:only-of-type {\n",
       "        vertical-align: middle;\n",
       "    }\n",
       "\n",
       "    .dataframe tbody tr th {\n",
       "        vertical-align: top;\n",
       "    }\n",
       "\n",
       "    .dataframe thead th {\n",
       "        text-align: right;\n",
       "    }\n",
       "</style>\n",
       "<table border=\"1\" class=\"dataframe\">\n",
       "  <thead>\n",
       "    <tr style=\"text-align: right;\">\n",
       "      <th></th>\n",
       "      <th>CreditScore</th>\n",
       "      <th>Age</th>\n",
       "      <th>Tenure</th>\n",
       "      <th>Balance</th>\n",
       "      <th>NumOfProducts</th>\n",
       "      <th>HasCrCard</th>\n",
       "      <th>IsActiveMember</th>\n",
       "      <th>EstimatedSalary</th>\n",
       "      <th>Geography_Germany</th>\n",
       "      <th>Geography_Spain</th>\n",
       "      <th>Gender_Male</th>\n",
       "    </tr>\n",
       "  </thead>\n",
       "  <tbody>\n",
       "    <tr>\n",
       "      <th>657</th>\n",
       "      <td>-0.504497</td>\n",
       "      <td>1.429928</td>\n",
       "      <td>-1.140009</td>\n",
       "      <td>0.873883</td>\n",
       "      <td>0.820981</td>\n",
       "      <td>1</td>\n",
       "      <td>1</td>\n",
       "      <td>1.725255</td>\n",
       "      <td>1</td>\n",
       "      <td>0</td>\n",
       "      <td>0</td>\n",
       "    </tr>\n",
       "    <tr>\n",
       "      <th>2083</th>\n",
       "      <td>-1.195031</td>\n",
       "      <td>-1.429769</td>\n",
       "      <td>-1.140009</td>\n",
       "      <td>-1.219673</td>\n",
       "      <td>-0.914708</td>\n",
       "      <td>1</td>\n",
       "      <td>1</td>\n",
       "      <td>1.203665</td>\n",
       "      <td>0</td>\n",
       "      <td>0</td>\n",
       "      <td>1</td>\n",
       "    </tr>\n",
       "    <tr>\n",
       "      <th>3234</th>\n",
       "      <td>-1.267176</td>\n",
       "      <td>0.762665</td>\n",
       "      <td>-1.140009</td>\n",
       "      <td>-1.219673</td>\n",
       "      <td>-0.914708</td>\n",
       "      <td>1</td>\n",
       "      <td>0</td>\n",
       "      <td>-1.374743</td>\n",
       "      <td>0</td>\n",
       "      <td>0</td>\n",
       "      <td>1</td>\n",
       "    </tr>\n",
       "    <tr>\n",
       "      <th>1551</th>\n",
       "      <td>0.825039</td>\n",
       "      <td>1.239281</td>\n",
       "      <td>0.788940</td>\n",
       "      <td>-1.219673</td>\n",
       "      <td>0.820981</td>\n",
       "      <td>0</td>\n",
       "      <td>1</td>\n",
       "      <td>0.382306</td>\n",
       "      <td>0</td>\n",
       "      <td>1</td>\n",
       "      <td>0</td>\n",
       "    </tr>\n",
       "    <tr>\n",
       "      <th>2344</th>\n",
       "      <td>0.660135</td>\n",
       "      <td>0.953312</td>\n",
       "      <td>-0.175534</td>\n",
       "      <td>0.267087</td>\n",
       "      <td>-0.914708</td>\n",
       "      <td>1</td>\n",
       "      <td>0</td>\n",
       "      <td>-1.613578</td>\n",
       "      <td>1</td>\n",
       "      <td>0</td>\n",
       "      <td>0</td>\n",
       "    </tr>\n",
       "  </tbody>\n",
       "</table>\n",
       "</div>"
      ],
      "text/plain": [
       "      CreditScore       Age    Tenure   Balance  NumOfProducts  HasCrCard  \\\n",
       "657     -0.504497  1.429928 -1.140009  0.873883       0.820981          1   \n",
       "2083    -1.195031 -1.429769 -1.140009 -1.219673      -0.914708          1   \n",
       "3234    -1.267176  0.762665 -1.140009 -1.219673      -0.914708          1   \n",
       "1551     0.825039  1.239281  0.788940 -1.219673       0.820981          0   \n",
       "2344     0.660135  0.953312 -0.175534  0.267087      -0.914708          1   \n",
       "\n",
       "      IsActiveMember  EstimatedSalary  Geography_Germany  Geography_Spain  \\\n",
       "657                1         1.725255                  1                0   \n",
       "2083               1         1.203665                  0                0   \n",
       "3234               0        -1.374743                  0                0   \n",
       "1551               1         0.382306                  0                1   \n",
       "2344               0        -1.613578                  1                0   \n",
       "\n",
       "      Gender_Male  \n",
       "657             0  \n",
       "2083            1  \n",
       "3234            1  \n",
       "1551            0  \n",
       "2344            0  "
      ]
     },
     "execution_count": 25,
     "metadata": {},
     "output_type": "execute_result"
    }
   ],
   "source": [
    "#Масштабируем численные признаки тестовой выборки \n",
    "features_test[numeric] = scaler.transform(features_test[numeric])\n",
    "features_test.head()"
   ]
  },
  {
   "cell_type": "markdown",
   "metadata": {},
   "source": [
    "В результате мы получили масштабированные признаки для трех выборок. Перейдем к исследованию задачи с помощью моделей машинного обучения."
   ]
  },
  {
   "cell_type": "markdown",
   "metadata": {},
   "source": [
    "## Исследование задачи"
   ]
  },
  {
   "cell_type": "markdown",
   "metadata": {},
   "source": [
    "### Проверка на баланс классов"
   ]
  },
  {
   "cell_type": "markdown",
   "metadata": {},
   "source": [
    "Проверим целевой признак на дисбаланс классов:"
   ]
  },
  {
   "cell_type": "code",
   "execution_count": 26,
   "metadata": {},
   "outputs": [
    {
     "data": {
      "text/plain": [
       "0    7963\n",
       "1    2037\n",
       "Name: Exited, dtype: int64"
      ]
     },
     "execution_count": 26,
     "metadata": {},
     "output_type": "execute_result"
    },
    {
     "data": {
      "image/png": "[encoded data removed]",
      "text/plain": [
       "<Figure size 648x432 with 1 Axes>"
      ]
     },
     "metadata": {
      "needs_background": "light"
     },
     "output_type": "display_data"
    }
   ],
   "source": [
    "df_ml['Exited'].value_counts().plot(kind='bar',figsize=(9,6),title='Отношение целевого признака')\n",
    "df_ml['Exited'].value_counts()"
   ]
  },
  {
   "cell_type": "markdown",
   "metadata": {},
   "source": [
    "Явно наблюдается дисбаланс классов. Это может привести к тому, что в последствии модель будет не верно предсказывать, явно склоняясь к одному варианту ответов."
   ]
  },
  {
   "cell_type": "markdown",
   "metadata": {},
   "source": [
    "### Обучение моделей"
   ]
  },
  {
   "cell_type": "markdown",
   "metadata": {},
   "source": [
    "Обучение проведем на несбалансированных данных и сравним результаты метрик каждой модели между собой."
   ]
  },
  {
   "cell_type": "markdown",
   "metadata": {},
   "source": [
    "В исследовании будем использовать следующие модели:<br>\n",
    "Логистическая регрессия<br>\n",
    "Решающее дерево<br>\n",
    "Случайный лес<br>"
   ]
  },
  {
   "cell_type": "markdown",
   "metadata": {},
   "source": [
    "Обучение и оценка метрик с помощью модели Логистической регрессии"
   ]
  },
  {
   "cell_type": "code",
   "execution_count": 27,
   "metadata": {},
   "outputs": [
    {
     "name": "stdout",
     "output_type": "stream",
     "text": [
      "F1-мера 0.3077\n"
     ]
    }
   ],
   "source": [
    "model_lr =  LogisticRegression(random_state=12345, solver='liblinear')\n",
    "model_lr.fit(features_train, target_train)\n",
    "prediction_lr = model_lr.predict(features_valid)\n",
    "print('F1-мера', round(f1_score(target_valid, prediction_lr), 4))"
   ]
  },
  {
   "cell_type": "markdown",
   "metadata": {},
   "source": [
    "Обучение модели дерева решений. Найдем гиперпараметры с наибольшим значением F1-мера."
   ]
  },
  {
   "cell_type": "code",
   "execution_count": 28,
   "metadata": {},
   "outputs": [
    {
     "name": "stdout",
     "output_type": "stream",
     "text": [
      "Max глубина дерева 7\n",
      "F1-мера 0.5925\n"
     ]
    }
   ],
   "source": [
    "best_model_tree = None\n",
    "f1_best = 0\n",
    "depth_best = 0\n",
    "for depth in range(5, 15):\n",
    "    model_tree = DecisionTreeClassifier(random_state=12345, max_depth=depth)\n",
    "    model_tree.fit(features_train, target_train)\n",
    "    prediction = model_tree.predict(features_valid)\n",
    "    f1 = f1_score(target_valid, prediction)\n",
    "    \n",
    "    if f1>f1_best:\n",
    "        f1_best=f1\n",
    "        depth_best=depth\n",
    "        best_model_tree = model_tree\n",
    "\n",
    "print('Max глубина дерева', depth_best)\n",
    "print('F1-мера', round(f1_best, 4))"
   ]
  },
  {
   "cell_type": "code",
   "execution_count": 29,
   "metadata": {},
   "outputs": [
    {
     "name": "stdout",
     "output_type": "stream",
     "text": [
      "F1-мера 0.5925\n"
     ]
    }
   ],
   "source": [
    "#определим accuracy, precision, recall, F1, AUC-ROC на полученных гиперпараметрах\n",
    "model_tree = DecisionTreeClassifier(random_state=12345, max_depth= 7)\n",
    "model_tree.fit(features_train, target_train)\n",
    "prediction_tree = model_tree.predict(features_valid)\n",
    "print('F1-мера', round(f1_score(target_valid, prediction_tree), 4))"
   ]
  },
  {
   "cell_type": "markdown",
   "metadata": {},
   "source": [
    "Обучение модели случайного леса"
   ]
  },
  {
   "cell_type": "code",
   "execution_count": 30,
   "metadata": {},
   "outputs": [
    {
     "name": "stdout",
     "output_type": "stream",
     "text": [
      "Количество деревьев = 100\n",
      "Max глубина 13\n",
      "F1-мера 0.6105\n"
     ]
    }
   ],
   "source": [
    "best_model_forest = None\n",
    "est_best = 0\n",
    "depth_best = 0\n",
    "f1_best = 0\n",
    "for est in range (10, 110, 10):\n",
    "    for depth in range(5, 15, 2):\n",
    "        model_forest = RandomForestClassifier(n_estimators=est, max_depth=depth, random_state=12345)\n",
    "        model_forest.fit(features_train, target_train)\n",
    "        prediction_forest = model_forest.predict(features_valid)\n",
    "        f1 = f1_score(target_valid, prediction_forest)\n",
    "        if f1>f1_best:\n",
    "            f1_best=f1\n",
    "            est_best=est\n",
    "            depth_best=depth\n",
    "            best_model_forest = model_forest\n",
    "        \n",
    "\n",
    "print('Количество деревьев =', est_best)\n",
    "print('Max глубина', depth_best)\n",
    "print('F1-мера', round(f1_best, 4))"
   ]
  },
  {
   "cell_type": "code",
   "execution_count": 31,
   "metadata": {},
   "outputs": [
    {
     "name": "stdout",
     "output_type": "stream",
     "text": [
      "F1-мера 0.6105\n"
     ]
    }
   ],
   "source": [
    "#Проведем оценку accuracy, precision, recall, F1, AUC-ROC на полученных гиперпараметрах\n",
    "model_forest = RandomForestClassifier(n_estimators=100, max_depth=13, random_state=12345)\n",
    "model_forest.fit(features_train, target_train)\n",
    "prediction_forest =  model_forest.predict(features_valid)\n",
    "print('F1-мера', round(f1_score(target_valid, prediction_forest), 4))"
   ]
  },
  {
   "cell_type": "markdown",
   "metadata": {},
   "source": [
    "Сравним все показатели между собой:"
   ]
  },
  {
   "cell_type": "code",
   "execution_count": 32,
   "metadata": {},
   "outputs": [
    {
     "name": "stdout",
     "output_type": "stream",
     "text": [
      "Логистическая регрессия\n",
      "Качество модели 0.811\n",
      "Точность модели 0.6087\n",
      "Полнота 0.2059\n",
      "F1-мера 0.3077\n",
      "AUC-ROC 0.586\n",
      "----------\n",
      "Дерево решений\n",
      "Качество модели 0.859\n",
      "Точность модели 0.7218\n",
      "Полнота 0.5025\n",
      "F1-мера 0.5925\n",
      "AUC-ROC 0.7264\n",
      "----------\n",
      "Случайный лес\n",
      "Качество модели 0.8705\n",
      "Точность модели 0.7899\n",
      "Полнота 0.4975\n",
      "F1-мера 0.6105\n",
      "AUC-ROC 0.7318\n"
     ]
    }
   ],
   "source": [
    "print('Логистическая регрессия')\n",
    "print('Качество модели', accuracy_score(target_valid, prediction_lr))\n",
    "print('Точность модели', round(precision_score(target_valid, prediction_lr), 4))\n",
    "print('Полнота', round(recall_score(target_valid, prediction_lr), 4))\n",
    "print('F1-мера', round(f1_score(target_valid, prediction_lr), 4))\n",
    "print(\"AUC-ROC\", round(roc_auc_score(target_valid, prediction_lr), 4))\n",
    "print('----------')\n",
    "\n",
    "print('Дерево решений')\n",
    "print('Качество модели', accuracy_score(target_valid, prediction_tree))\n",
    "print('Точность модели', round(precision_score(target_valid, prediction_tree), 4))\n",
    "print('Полнота', round(recall_score(target_valid, prediction_tree), 4))\n",
    "print('F1-мера', round(f1_score(target_valid, prediction_tree), 4))\n",
    "print(\"AUC-ROC\", round(roc_auc_score(target_valid, prediction_tree), 4))\n",
    "print('----------')\n",
    "\n",
    "print('Случайный лес')\n",
    "print('Качество модели', accuracy_score(target_valid, prediction_forest))\n",
    "print('Точность модели', round(precision_score(target_valid, prediction_forest), 4))\n",
    "print('Полнота', round(recall_score(target_valid, prediction_forest), 4))\n",
    "print('F1-мера', round(f1_score(target_valid, prediction_forest), 4))\n",
    "print(\"AUC-ROC\", round(roc_auc_score(target_valid, prediction_forest), 4))"
   ]
  },
  {
   "cell_type": "markdown",
   "metadata": {},
   "source": [
    "Все модели показывают качество выше, чем константная модель. Но у все моделей показатель Полнота (Recall) ниже, чем Точность (Precision). Причина в несбалансированности данных. Это, в свою очередь, влияет на значение F1-меры. Самый высокий показатель F1-меры у модели Случайный лес."
   ]
  },
  {
   "cell_type": "markdown",
   "metadata": {},
   "source": [
    "## Борьба с дисбалансом"
   ]
  },
  {
   "cell_type": "markdown",
   "metadata": {},
   "source": [
    "Ранее было определено, что в выборке отрицательных ответов ≈80% , положительных ≈ 20%.\n",
    "Чтобы сбалансировать данные, необходмо увеличить количество положительных ответов в 4 раза. "
   ]
  },
  {
   "cell_type": "markdown",
   "metadata": {},
   "source": [
    "###  Балансировка классов"
   ]
  },
  {
   "cell_type": "markdown",
   "metadata": {},
   "source": [
    "Придадим объектам редкого класса 1 больший вес используя гиперпараметр class_weight='balanced'"
   ]
  },
  {
   "cell_type": "code",
   "execution_count": 33,
   "metadata": {},
   "outputs": [
    {
     "name": "stdout",
     "output_type": "stream",
     "text": [
      "F1-мера 0.5303\n"
     ]
    }
   ],
   "source": [
    "model_lr =  LogisticRegression(random_state=12345, solver='liblinear', class_weight='balanced')\n",
    "model_lr.fit(features_train, target_train)\n",
    "prediction_lr = model_lr.predict(features_valid)\n",
    "print('F1-мера', round(f1_score(target_valid, prediction_lr), 4))"
   ]
  },
  {
   "cell_type": "code",
   "execution_count": 34,
   "metadata": {},
   "outputs": [
    {
     "name": "stdout",
     "output_type": "stream",
     "text": [
      "Max глубина дерева 6\n",
      "F1-мера 0.5759\n"
     ]
    }
   ],
   "source": [
    "best_model_tree = None\n",
    "f1_best = 0\n",
    "depth_best = 0\n",
    "for depth in range(5, 15):\n",
    "    model_tree = DecisionTreeClassifier(random_state=12345, max_depth=depth, class_weight='balanced')\n",
    "    model_tree.fit(features_train, target_train)\n",
    "    prediction = model_tree.predict(features_valid)\n",
    "    f1 = f1_score(target_valid, prediction)\n",
    "    \n",
    "    if f1>f1_best:\n",
    "        f1_best=f1\n",
    "        depth_best=depth\n",
    "        best_model_tree = model_tree\n",
    "\n",
    "print('Max глубина дерева', depth_best)\n",
    "print('F1-мера', round(f1_best, 4))"
   ]
  },
  {
   "cell_type": "code",
   "execution_count": 35,
   "metadata": {},
   "outputs": [
    {
     "name": "stdout",
     "output_type": "stream",
     "text": [
      "Количество деревьев = 50\n",
      "Max глубина 9\n",
      "F1-мера 0.6419\n"
     ]
    }
   ],
   "source": [
    "best_model_forest = None\n",
    "est_best = 0\n",
    "depth_best = 0\n",
    "f1_best = 0\n",
    "for est in range (10, 110, 10):\n",
    "    for depth in range(5, 15, 2):\n",
    "        model_forest = RandomForestClassifier(n_estimators=est, max_depth=depth, \n",
    "                                              random_state=12345, class_weight='balanced')\n",
    "        model_forest.fit(features_train, target_train)\n",
    "        prediction_forest = model_forest.predict(features_valid)\n",
    "        f1 = f1_score(target_valid, prediction_forest)\n",
    "        if f1>f1_best:\n",
    "            f1_best=f1\n",
    "            est_best=est\n",
    "            depth_best=depth\n",
    "            best_model_forest = model_forest\n",
    "        \n",
    "\n",
    "print('Количество деревьев =', est_best)\n",
    "print('Max глубина', depth_best)\n",
    "print('F1-мера', round(f1_best, 4))"
   ]
  },
  {
   "cell_type": "markdown",
   "metadata": {},
   "source": [
    "Сравним метрики каждой модели между собой:"
   ]
  },
  {
   "cell_type": "code",
   "execution_count": 36,
   "metadata": {},
   "outputs": [
    {
     "name": "stdout",
     "output_type": "stream",
     "text": [
      "Логистическая регрессия\n",
      "Качество модели 0.7325\n",
      "Точность модели 0.4131\n",
      "Полнота 0.7402\n",
      "F1-мера 0.5303\n",
      "AUC-ROC 0.7354\n",
      "----------\n",
      "Дерево решений\n",
      "Качество модели 0.859\n",
      "Точность модели 0.7218\n",
      "Полнота 0.5025\n",
      "F1-мера 0.5925\n",
      "AUC-ROC 0.7264\n",
      "----------\n",
      "Случайный лес\n",
      "Качество модели 0.862\n",
      "Точность модели 0.7089\n",
      "Полнота 0.549\n",
      "F1-мера 0.6188\n",
      "AUC-ROC 0.7456\n"
     ]
    }
   ],
   "source": [
    "print('Логистическая регрессия')\n",
    "print('Качество модели', accuracy_score(target_valid, prediction_lr))\n",
    "print('Точность модели', round(precision_score(target_valid, prediction_lr), 4))\n",
    "print('Полнота', round(recall_score(target_valid, prediction_lr), 4))\n",
    "print('F1-мера', round(f1_score(target_valid, prediction_lr), 4))\n",
    "print(\"AUC-ROC\", round(roc_auc_score(target_valid, prediction_lr), 4))\n",
    "print('----------')\n",
    "\n",
    "print('Дерево решений')\n",
    "print('Качество модели', accuracy_score(target_valid, prediction_tree))\n",
    "print('Точность модели', round(precision_score(target_valid, prediction_tree), 4))\n",
    "print('Полнота', round(recall_score(target_valid, prediction_tree), 4))\n",
    "print('F1-мера', round(f1_score(target_valid, prediction_tree), 4))\n",
    "print(\"AUC-ROC\", round(roc_auc_score(target_valid, prediction_tree), 4))\n",
    "print('----------')\n",
    "\n",
    "print('Случайный лес')\n",
    "print('Качество модели', accuracy_score(target_valid, prediction_forest))\n",
    "print('Точность модели', round(precision_score(target_valid, prediction_forest), 4))\n",
    "print('Полнота', round(recall_score(target_valid, prediction_forest), 4))\n",
    "print('F1-мера', round(f1_score(target_valid, prediction_forest), 4))\n",
    "print(\"AUC-ROC\", round(roc_auc_score(target_valid, prediction_forest), 4))"
   ]
  },
  {
   "cell_type": "markdown",
   "metadata": {},
   "source": [
    "При использовании гиперпараметра class_weight='balanced' значение метрик улучшились. Самый высокий показатель у модели Случайный лес."
   ]
  },
  {
   "cell_type": "markdown",
   "metadata": {},
   "source": [
    "###  Уменьшение выборки"
   ]
  },
  {
   "cell_type": "markdown",
   "metadata": {},
   "source": [
    "Применим функцию Downsampling:<br>\n",
    "Разделим обучающую выборку на отрицательные и положительные объекты<br>\n",
    "Случайным образом отбросим часть из отрицательных объектов<br>\n",
    "С учётом полученных данных создаем новую обучающую выборку<br>\n",
    "Перемешаем данные<br>\n",
    "Обучим модели<br>"
   ]
  },
  {
   "cell_type": "code",
   "execution_count": 37,
   "metadata": {},
   "outputs": [],
   "source": [
    "def downsampling(features,target,fraction):\n",
    "    #Разделяем выборку по значениям целевой функции\n",
    "    features_null=features[target==0]\n",
    "    features_one=features[target==1]\n",
    "    target_null=target[target==0]\n",
    "    target_one=target[target==1]\n",
    "    \n",
    "    #уменьшаем выборку и соединяем обратно\n",
    "    downsampling_features=pd.concat([features_null.sample(frac=fraction,random_state=12345)]+[features_one])\n",
    "    downsampling_target=pd.concat([target_null.sample(frac=fraction,random_state=12345)]+[target_one])\n",
    "    \n",
    "    # Перемешиваем\n",
    "    downsampling_features,downsampling_target=shuffle(downsampling_features,downsampling_target,random_state=12345)\n",
    "    \n",
    "    return downsampling_features,downsampling_target"
   ]
  },
  {
   "cell_type": "code",
   "execution_count": 38,
   "metadata": {},
   "outputs": [],
   "source": [
    "features_balance_dw,target_balance_dw=downsampling(features_train,target_train,0.25)"
   ]
  },
  {
   "cell_type": "markdown",
   "metadata": {},
   "source": [
    "Получили сбалансированную обучающую выборку"
   ]
  },
  {
   "cell_type": "markdown",
   "metadata": {},
   "source": [
    "Проверим как изменился баланс классов после Downsampling:"
   ]
  },
  {
   "cell_type": "code",
   "execution_count": 39,
   "metadata": {},
   "outputs": [
    {
     "data": {
      "text/plain": [
       "1    50.57947\n",
       "0    49.42053\n",
       "Name: Exited, dtype: float64"
      ]
     },
     "execution_count": 39,
     "metadata": {},
     "output_type": "execute_result"
    }
   ],
   "source": [
    "target_balance_dw.value_counts(normalize = 1)*100"
   ]
  },
  {
   "cell_type": "markdown",
   "metadata": {},
   "source": [
    "Дисбаланс стал заметно меньше. Соотношение данных по целевому признаку стало практически одинаковым: 50,57% и 49,42%. "
   ]
  },
  {
   "cell_type": "markdown",
   "metadata": {},
   "source": [
    "Обучение модели логистической регрессии на сбалансированной выборке Downsampling"
   ]
  },
  {
   "cell_type": "code",
   "execution_count": 40,
   "metadata": {},
   "outputs": [
    {
     "name": "stdout",
     "output_type": "stream",
     "text": [
      "F1-мера 0.525\n"
     ]
    }
   ],
   "source": [
    "model_lr =  LogisticRegression(random_state=12345, solver='liblinear')\n",
    "model_lr.fit(features_balance_dw,target_balance_dw)\n",
    "prediction_lr = model_lr.predict(features_valid)\n",
    "print('F1-мера', round(f1_score(target_valid, prediction_lr), 4))\n",
    "probabilities_valid = model_lr.predict_proba(features_valid)[:, 1]\n",
    "fpr_lr, tpr_lr, thresholds = roc_curve(target_valid,probabilities_valid)"
   ]
  },
  {
   "cell_type": "markdown",
   "metadata": {},
   "source": [
    "Обучение модели дерево решений на сбалансированной выборке Downsampling"
   ]
  },
  {
   "cell_type": "code",
   "execution_count": 41,
   "metadata": {},
   "outputs": [
    {
     "name": "stdout",
     "output_type": "stream",
     "text": [
      "Max глубина 6\n",
      "F1-мера 0.5939\n"
     ]
    }
   ],
   "source": [
    "best_model_tree = None\n",
    "f1_best = 0\n",
    "depth_best = 0\n",
    "for depth in range(5, 15):\n",
    "    model_tree = DecisionTreeClassifier(random_state=12345, max_depth=depth)\n",
    "    model_tree.fit(features_balance_dw,target_balance_dw)\n",
    "    prediction = model_tree.predict(features_valid)\n",
    "    f1 = f1_score(target_valid, prediction)\n",
    "    if f1>f1_best:\n",
    "            f1_best=f1\n",
    "            depth_best=depth\n",
    "            best_model_tree = model_tree\n",
    "\n",
    "model_tree = DecisionTreeClassifier(random_state=12345, max_depth=depth_best)\n",
    "model_tree.fit(features_balance_dw,target_balance_dw)\n",
    "prediction_tree = model_tree.predict(features_valid)\n",
    "print('Max глубина', depth_best)\n",
    "print('F1-мера', round(f1_score(target_valid, prediction_tree), 4))\n",
    "probabilities_valid = model_tree.predict_proba(features_valid)[:, 1]\n",
    "fpr_tree, tpr_tree, thresholds = roc_curve(target_valid, probabilities_valid)"
   ]
  },
  {
   "cell_type": "markdown",
   "metadata": {},
   "source": [
    "Обучение модели случайного леса на сбалансированной выборке Downsampling"
   ]
  },
  {
   "cell_type": "code",
   "execution_count": 42,
   "metadata": {},
   "outputs": [
    {
     "name": "stdout",
     "output_type": "stream",
     "text": [
      "Количество деревьев = 40\n",
      "Max глубина 7\n",
      "F1-мера 0.631\n"
     ]
    }
   ],
   "source": [
    "best_model_forest = None\n",
    "est_best = 0\n",
    "depth_best = 0\n",
    "f1_best = 0\n",
    "for est in range (10, 110, 10):\n",
    "    for depth in range(5, 15, 2):\n",
    "        model_forest = RandomForestClassifier(n_estimators=est, max_depth=depth, random_state=12345)\n",
    "        model_forest.fit(features_balance_dw,target_balance_dw)\n",
    "        prediction_forest = model_forest.predict(features_valid)\n",
    "        f1 = f1_score(target_valid, prediction_forest)\n",
    "        if f1>f1_best:\n",
    "            f1_best=f1\n",
    "            est_best=est\n",
    "            depth_best=depth\n",
    "            best_model_forest = model_forest\n",
    "\n",
    "\n",
    "model_forest = RandomForestClassifier(n_estimators=est_best, max_depth=depth_best, random_state=12345)\n",
    "model_forest.fit(features_balance_dw,target_balance_dw)\n",
    "prediction_forest =  model_forest.predict(features_valid)\n",
    "print('Количество деревьев =', est_best)\n",
    "print('Max глубина', depth_best)\n",
    "print('F1-мера', round(f1_score(target_valid, prediction_forest), 4))\n",
    "probabilities_valid = model_forest.predict_proba(features_valid)[:, 1]\n",
    "fpr_forest, tpr_forest, thresholds = roc_curve(target_valid, probabilities_valid)"
   ]
  },
  {
   "cell_type": "markdown",
   "metadata": {},
   "source": [
    "Сравним метрики после обучения на сбалансированной выборке с Downsampling"
   ]
  },
  {
   "cell_type": "code",
   "execution_count": 43,
   "metadata": {},
   "outputs": [
    {
     "name": "stdout",
     "output_type": "stream",
     "text": [
      "Логистическая регрессия\n",
      "Качество модели 0.725\n",
      "Точность модели 0.4053\n",
      "Полнота 0.7451\n",
      "F1-мера 0.525\n",
      "AUC-ROC 0.7325\n",
      "----------\n",
      "Дерево решений\n",
      "Качество модели 0.786\n",
      "Точность модели 0.4845\n",
      "Полнота 0.7672\n",
      "F1-мера 0.5939\n",
      "AUC-ROC 0.779\n",
      "----------\n",
      "Случайный лес\n",
      "Качество модели 0.807\n",
      "Точность модели 0.5172\n",
      "Полнота 0.8088\n",
      "F1-мера 0.631\n",
      "AUC-ROC 0.8077\n"
     ]
    }
   ],
   "source": [
    "print('Логистическая регрессия')\n",
    "print('Качество модели', accuracy_score(target_valid, prediction_lr))\n",
    "print('Точность модели', round(precision_score(target_valid, prediction_lr), 4))\n",
    "print('Полнота', round(recall_score(target_valid, prediction_lr), 4))\n",
    "print('F1-мера', round(f1_score(target_valid, prediction_lr), 4))\n",
    "print(\"AUC-ROC\", round(roc_auc_score(target_valid, prediction_lr), 4))\n",
    "print('----------')\n",
    "\n",
    "print('Дерево решений')\n",
    "print('Качество модели', accuracy_score(target_valid, prediction_tree))\n",
    "print('Точность модели', round(precision_score(target_valid, prediction_tree), 4))\n",
    "print('Полнота', round(recall_score(target_valid, prediction_tree), 4))\n",
    "print('F1-мера', round(f1_score(target_valid, prediction_tree), 4))\n",
    "print(\"AUC-ROC\", round(roc_auc_score(target_valid, prediction_tree), 4))\n",
    "print('----------')\n",
    "\n",
    "print('Случайный лес')\n",
    "print('Качество модели', accuracy_score(target_valid, prediction_forest))\n",
    "print('Точность модели', round(precision_score(target_valid, prediction_forest), 4))\n",
    "print('Полнота', round(recall_score(target_valid, prediction_forest), 4))\n",
    "print('F1-мера', round(f1_score(target_valid, prediction_forest), 4))\n",
    "print(\"AUC-ROC\", round(roc_auc_score(target_valid, prediction_forest), 4))"
   ]
  },
  {
   "cell_type": "markdown",
   "metadata": {},
   "source": [
    "Значение метрики F1-мера у модели Логистическая регрессия немного стал ниже. У остальных моделей - улучшился. Самый лучший показатель - Случайный лес."
   ]
  },
  {
   "cell_type": "markdown",
   "metadata": {},
   "source": [
    "### График AUC-ROC (баланс классов методом downsampling)"
   ]
  },
  {
   "cell_type": "code",
   "execution_count": 44,
   "metadata": {},
   "outputs": [
    {
     "data": {
      "text/plain": [
       "<Figure size 432x288 with 0 Axes>"
      ]
     },
     "metadata": {},
     "output_type": "display_data"
    },
    {
     "data": {
      "image/png": "[encoded data removed]",
      "text/plain": [
       "<Figure size 720x504 with 1 Axes>"
      ]
     },
     "metadata": {
      "needs_background": "light"
     },
     "output_type": "display_data"
    }
   ],
   "source": [
    "#строим AUC-ROC\n",
    "plt.figure()\n",
    "\n",
    "plt.figure(figsize=(10,7))\n",
    "plt.plot([0, 1], [0, 1], linestyle='--')\n",
    "plt.xlim([0.0, 1.0])\n",
    "plt.ylim([0.0, 1.0])\n",
    "plt.plot(fpr_forest,tpr_forest)\n",
    "plt.plot(fpr_lr,tpr_lr)\n",
    "plt.plot(fpr_tree,tpr_tree)\n",
    "\n",
    "plt.xlabel('False Positive Rate')\n",
    "plt.ylabel('True Positive Rate')\n",
    "plt.title('ROC-кривая')\n",
    "plt.legend(('Случайная модель','Случайный лес','Логистическая регрессия','Дерево решения'),\n",
    "           loc= 'upper left') \n",
    "plt.grid()\n",
    "plt.show()"
   ]
  },
  {
   "cell_type": "markdown",
   "metadata": {},
   "source": [
    "## Тестирование модели"
   ]
  },
  {
   "cell_type": "markdown",
   "metadata": {},
   "source": [
    "Обучаем тестовую модель на сбалансированной выборке features_balance_up,target_balance_up:"
   ]
  },
  {
   "cell_type": "code",
   "execution_count": 53,
   "metadata": {},
   "outputs": [
    {
     "name": "stdout",
     "output_type": "stream",
     "text": [
      "Качество модели 0.8465\n",
      "Точность модели 0.6086\n",
      "Полнота 0.6936\n",
      "F1-мера 0.6483\n",
      "AUC-ROC 0.7897\n"
     ]
    }
   ],
   "source": [
    "#обучаем тестовую модель\n",
    "model_forest_test = RandomForestClassifier(n_estimators=60, max_depth=11, random_state=12345)\n",
    "model_forest_test.fit(features_balance_up,target_balance_up)\n",
    "prediction_forest =  model_forest_test.predict(features_valid)\n",
    "print('Качество модели', accuracy_score(target_valid, prediction_forest))\n",
    "print('Точность модели', round(precision_score(target_valid, prediction_forest), 4))\n",
    "print('Полнота', round(recall_score(target_valid, prediction_forest), 4))\n",
    "print('F1-мера', round(f1_score(target_valid, prediction_forest), 4))\n",
    "print(\"AUC-ROC\", round(roc_auc_score(target_valid, prediction_forest), 4))\n",
    "probabilities_valid = model_forest.predict_proba(features_valid)[:, 1]\n",
    "fpr_forest, tpr_forest, thresholds = roc_curve(target_valid, probabilities_valid)"
   ]
  },
  {
   "cell_type": "markdown",
   "metadata": {},
   "source": [
    "### Проверка на адекватность"
   ]
  },
  {
   "cell_type": "markdown",
   "metadata": {},
   "source": [
    "Создаем константную модель"
   ]
  },
  {
   "cell_type": "code",
   "execution_count": 54,
   "metadata": {},
   "outputs": [
    {
     "data": {
      "text/plain": [
       "(2000,)"
      ]
     },
     "execution_count": 54,
     "metadata": {},
     "output_type": "execute_result"
    }
   ],
   "source": [
    "target_constant = pd.Series([0]*len(target_valid))\n",
    "target_constant.shape"
   ]
  },
  {
   "cell_type": "code",
   "execution_count": 55,
   "metadata": {},
   "outputs": [
    {
     "name": "stdout",
     "output_type": "stream",
     "text": [
      "Качество константной модели 0.796\n",
      "Качество тестовой модели: 0.8465\n"
     ]
    }
   ],
   "source": [
    "print('Качество константной модели', accuracy_score(target_valid, target_constant))\n",
    "print('Качество тестовой модели:', accuracy_score(target_valid, prediction_forest))"
   ]
  },
  {
   "cell_type": "code",
   "execution_count": 56,
   "metadata": {},
   "outputs": [
    {
     "name": "stdout",
     "output_type": "stream",
     "text": [
      "AUC-ROC константой модели: 0.5\n",
      "AUC-ROC тестовой модели: 0.7897\n"
     ]
    }
   ],
   "source": [
    "print('AUC-ROC константой модели:', roc_auc_score(target_valid, target_constant))\n",
    "print('AUC-ROC тестовой модели:', round(roc_auc_score(target_valid, prediction_forest), 4))"
   ]
  },
  {
   "cell_type": "markdown",
   "metadata": {},
   "source": [
    "Метрики тестовой модели лучше, чем константной, соответственно, модель является адекватной"
   ]
  },
  {
   "cell_type": "markdown",
   "metadata": {},
   "source": [
    "### Тестирование финальной модели"
   ]
  },
  {
   "cell_type": "code",
   "execution_count": 57,
   "metadata": {},
   "outputs": [
    {
     "name": "stdout",
     "output_type": "stream",
     "text": [
      "Качество 0.826\n",
      "Точность 0.5657\n",
      "Полнота 0.6241\n",
      "F1-мера 0.5935\n",
      "AUC-ROC 0.8508\n"
     ]
    }
   ],
   "source": [
    "model_forest_test\n",
    "prediction_test = model_forest_test.predict(features_test)\n",
    "print('Качество', accuracy_score(target_test, prediction_test))\n",
    "print('Точность', round(precision_score(target_test, prediction_test), 4))\n",
    "print('Полнота', round(recall_score(target_test, prediction_test), 4))\n",
    "print('F1-мера', round(f1_score(target_test, prediction_test), 4))\n",
    "probabilities_valid = model_forest_test.predict_proba(features_test)[:, 1]\n",
    "print(\"AUC-ROC\", round(roc_auc_score(target_test, probabilities_valid), 4))\n",
    "fpr_forest, tpr_forest, thresholds = roc_curve(target_test, probabilities_valid)"
   ]
  },
  {
   "cell_type": "code",
   "execution_count": 58,
   "metadata": {},
   "outputs": [
    {
     "data": {
      "text/plain": [
       "<Figure size 432x288 with 0 Axes>"
      ]
     },
     "metadata": {},
     "output_type": "display_data"
    },
    {
     "data": {
      "image/png": "[encoded data removed]",
      "text/plain": [
       "<Figure size 720x504 with 1 Axes>"
      ]
     },
     "metadata": {
      "needs_background": "light"
     },
     "output_type": "display_data"
    }
   ],
   "source": [
    "#строим AUC-ROC финальной модели\n",
    "plt.figure()\n",
    "plt.figure(figsize=(10,7))\n",
    "plt.plot([0, 1], [0, 1], linestyle='--')\n",
    "plt.xlim([0.0, 1.0])\n",
    "plt.ylim([0.0, 1.0])\n",
    "plt.plot(fpr_forest, tpr_forest)\n",
    "plt.xlabel('False Positive Rate')\n",
    "plt.ylabel('True Positive Rate')\n",
    "plt.title('ROC-кривая')\n",
    "plt.legend(('Случайная модель','Тестируемая модель'),\n",
    "           loc= 'upper left')\n",
    "plt.grid()\n",
    "plt.show()"
   ]
  },
  {
   "cell_type": "markdown",
   "metadata": {},
   "source": [
    "### Выводы"
   ]
  },
  {
   "cell_type": "markdown",
   "metadata": {},
   "source": [
    "В работе был использован датасет с данными клиентов «Бета-Банка».<br> \n",
    "Была проведена предподготовка данных:<br>\n",
    "- проверка на пропуски и корректность формата данных<br>\n",
    "- пропущенные значения были заполнены экстремальными значениями<br>\n",
    "- была произведена оптимизация датафрейма для машинного обучения: убрали столбцы, которые не представляют ценности для обучения модели<br>\n",
    "- оставшиеся данные подготовлены методом One_hot_encoding.<br>\n",
    "\n",
    "Определены следующие модели для обучения: логистическая регрессия, дерево решений и случайный лес.<br>\n",
    "\n",
    "В первоначальных данных наблюдался значительный дисбаланс (80% ответов целевого признака были негативными и только 20% позитивными). <br>\n",
    "Все модели на первоначальных данных характеризуются низким качеством взвешенной величины (F1-мера), модели показывали низкие результаты точности и полноты.<br>\n",
    "\n",
    "Устранили дисбаланс классов в обучающей выборке.  Сравнили показатели метрик при балансировки классов, а также методами downsampling и upsampling.<br>\n",
    "Метод upsampling оказался эффективнее метода downsampling.  Это подтверждается значениями метрик для каждой модели:<br>\n",
    "\n",
    "Логистическая регрессия (выборка методом downsampling)<br>\n",
    "Качество модели 0.725<br>\n",
    "Точность модели 0.4053<br>\n",
    "Полнота 0.7451<br>\n",
    "F1-мера 0.525<br>\n",
    "AUC-ROC 0.7325<br>\n",
    "\n",
    "Логистическая регрессия (выборка методом upsampling)<br>\n",
    "Качество модели 0.7255<br>\n",
    "Точность модели 0.4056<br>\n",
    "Полнота 0.7426<br>\n",
    "F1-мера 0.5247<br>\n",
    "AUC-ROC 0.7319<br>\n",
    "\n",
    "\n",
    "Дерево решений (выборка методом downsampling)<br>\n",
    "Качество модели 0.786<br>\n",
    "Точность модели 0.4845<br>\n",
    "Полнота 0.7672<br>\n",
    "F1-мера 0.5939<br>\n",
    "AUC-ROC 0.779<br>\n",
    "\n",
    "Дерево решений (выборка методом upsampling)<br>\n",
    "Качество модели 0.771<br>\n",
    "Точность модели 0.4628<br>\n",
    "Полнота 0.7623<br>\n",
    "F1-мера 0.5759<br>\n",
    "AUC-ROC 0.7677<br>\n",
    "\n",
    "\n",
    "Случайный лес (выборка методом downsampling)<br>\n",
    "Качество модели 0.807<br>\n",
    "Точность модели 0.5172<br>\n",
    "Полнота 0.8088<br>\n",
    "F1-мера 0.631<br>\n",
    "AUC-ROC 0.8077<br>\n",
    "\n",
    "Случайный лес (выборка методом upsampling)<br>\n",
    "Качество модели 0.8465<br>\n",
    "Точность модели 0.6086<br>\n",
    "Полнота 0.6936<br>\n",
    "F1-мера 0.6483<br>\n",
    "AUC-ROC 0.7897<br>\n",
    "\n",
    "На новых данных все модели показали результат выше, чем на несбалансированной выборке. Лучшие показатели были у модели Случайного леса обученной на выборке сбалансированной методом Upsampling <br>\n",
    "Было принято решение произвести тестирование  на этой модели.<br>\n",
    "\n",
    "Финальная модель прошла проверку на адекватность в сравнении с константной моделью:<br>\n",
    "Качество константной модели 0.796<br>\n",
    "Качество тестовой модели: 0.8465<br>\n",
    "AUC-ROC константой модели: 0.5<br>\n",
    "AUC-ROC тестовой модели: 0.7897<br>\n",
    "\n",
    "Финальная модель достигла заданной метрики (показатели метрики F1-мера достигли значения не менее  0.59):  <br>\n",
    "Качество 0.826<br>\n",
    "Точность 0.5657<br>\n",
    "Полнота 0.6241<br>\n",
    "F1-мера 0.5935<br>\n",
    "AUC-ROC 0.8508<br>\n",
    "\n",
    "Модель характеризуется высоким показателем полноты 0.6241 , поэтому она с высокой вероятностью предскажет уход клиента из банка.\n",
    "Показатель точности не высокий = 0.5657,  модель верно предсказывает только половину ухода клиентов."
   ]
  },
  {
   "cell_type": "markdown",
   "metadata": {},
   "source": [
    "## Чек-лист готовности проекта"
   ]
  },
  {
   "cell_type": "markdown",
   "metadata": {},
   "source": [
    "Поставьте 'x' в выполненных пунктах. Далее нажмите Shift+Enter."
   ]
  },
  {
   "cell_type": "markdown",
   "metadata": {},
   "source": [
    "- [x]  Jupyter Notebook открыт\n",
    "- [x]  Весь код выполняется без ошибок\n",
    "- [x]  Ячейки с кодом расположены в порядке исполнения\n",
    "- [x]  Выполнен шаг 1: данные подготовлены\n",
    "- [x]  Выполнен шаг 2: задача исследована\n",
    "    - [x]  Исследован баланс классов\n",
    "    - [x]  Изучены модели без учёта дисбаланса\n",
    "    - [x]  Написаны выводы по результатам исследования\n",
    "- [x]  Выполнен шаг 3: учтён дисбаланс\n",
    "    - [x]  Применено несколько способов борьбы с дисбалансом\n",
    "    - [x]  Написаны выводы по результатам исследования\n",
    "- [x]  Выполнен шаг 4: проведено тестирование\n",
    "- [x]  Удалось достичь *F1*-меры не менее 0.59\n",
    "- [x]  Исследована метрика *AUC-ROC*"
   ]
  },
  {
   "cell_type": "code",
   "execution_count": null,
   "metadata": {},
   "outputs": [],
   "source": []
  }
 ],
 "metadata": {
  "ExecuteTimeLog": [
   {
    "duration": 1343,
    "start_time": "2022-10-05T11:26:42.479Z"
   },
   {
    "duration": 60,
    "start_time": "2022-10-05T11:26:43.824Z"
   },
   {
    "duration": 29,
    "start_time": "2022-10-05T11:26:43.886Z"
   },
   {
    "duration": 26,
    "start_time": "2022-10-05T11:26:43.918Z"
   },
   {
    "duration": 48,
    "start_time": "2022-10-05T11:26:43.945Z"
   },
   {
    "duration": 3,
    "start_time": "2022-10-05T11:26:43.995Z"
   },
   {
    "duration": 10,
    "start_time": "2022-10-05T11:26:43.999Z"
   },
   {
    "duration": 19,
    "start_time": "2022-10-05T11:26:44.011Z"
   },
   {
    "duration": 5,
    "start_time": "2022-10-05T11:26:44.032Z"
   },
   {
    "duration": 39,
    "start_time": "2022-10-05T11:26:44.041Z"
   },
   {
    "duration": 6,
    "start_time": "2022-10-05T11:26:44.082Z"
   },
   {
    "duration": 29,
    "start_time": "2022-10-05T11:26:44.090Z"
   },
   {
    "duration": 4,
    "start_time": "2022-10-05T11:26:44.121Z"
   },
   {
    "duration": 7,
    "start_time": "2022-10-05T11:26:44.127Z"
   },
   {
    "duration": 48,
    "start_time": "2022-10-05T11:26:44.136Z"
   },
   {
    "duration": 6,
    "start_time": "2022-10-05T11:26:44.186Z"
   },
   {
    "duration": 10,
    "start_time": "2022-10-05T11:26:44.194Z"
   },
   {
    "duration": 6,
    "start_time": "2022-10-05T11:26:44.206Z"
   },
   {
    "duration": 5,
    "start_time": "2022-10-05T11:26:44.214Z"
   },
   {
    "duration": 57,
    "start_time": "2022-10-05T11:26:44.221Z"
   },
   {
    "duration": 4,
    "start_time": "2022-10-05T11:26:44.280Z"
   },
   {
    "duration": 10,
    "start_time": "2022-10-05T11:26:44.285Z"
   },
   {
    "duration": 22,
    "start_time": "2022-10-05T11:26:44.297Z"
   },
   {
    "duration": 16,
    "start_time": "2022-10-05T11:26:44.321Z"
   },
   {
    "duration": 17,
    "start_time": "2022-10-05T11:26:44.377Z"
   },
   {
    "duration": 165,
    "start_time": "2022-10-05T11:26:44.396Z"
   },
   {
    "duration": 219,
    "start_time": "2022-10-05T11:26:44.563Z"
   },
   {
    "duration": 175,
    "start_time": "2022-10-05T11:26:44.787Z"
   },
   {
    "duration": 32,
    "start_time": "2022-10-05T11:26:44.976Z"
   },
   {
    "duration": 9737,
    "start_time": "2022-10-05T11:26:45.009Z"
   },
   {
    "duration": 482,
    "start_time": "2022-10-05T11:26:54.748Z"
   },
   {
    "duration": 6,
    "start_time": "2022-10-05T11:26:55.232Z"
   },
   {
    "duration": 19,
    "start_time": "2022-10-05T11:26:55.240Z"
   },
   {
    "duration": 219,
    "start_time": "2022-10-05T11:26:55.261Z"
   },
   {
    "duration": 631,
    "start_time": "2022-10-05T11:26:55.482Z"
   },
   {
    "duration": 37820,
    "start_time": "2022-10-05T11:26:56.114Z"
   },
   {
    "duration": 201,
    "start_time": "2022-10-05T11:27:33.937Z"
   },
   {
    "duration": 5,
    "start_time": "2022-10-05T11:27:34.139Z"
   },
   {
    "duration": 14,
    "start_time": "2022-10-05T11:27:34.145Z"
   },
   {
    "duration": 525,
    "start_time": "2022-10-05T11:27:34.160Z"
   },
   {
    "duration": 337,
    "start_time": "2022-10-05T11:27:34.686Z"
   },
   {
    "duration": 19526,
    "start_time": "2022-10-05T11:27:35.025Z"
   },
   {
    "duration": 225,
    "start_time": "2022-10-05T11:27:54.554Z"
   },
   {
    "duration": 650,
    "start_time": "2022-10-05T11:27:54.781Z"
   },
   {
    "duration": 5,
    "start_time": "2022-10-05T11:27:55.433Z"
   },
   {
    "duration": 25,
    "start_time": "2022-10-05T11:27:55.440Z"
   },
   {
    "duration": 17,
    "start_time": "2022-10-05T11:27:55.467Z"
   },
   {
    "duration": 110,
    "start_time": "2022-10-05T11:27:55.486Z"
   },
   {
    "duration": 183,
    "start_time": "2022-10-05T11:27:55.598Z"
   },
   {
    "duration": 2113,
    "start_time": "2022-10-06T10:43:44.463Z"
   },
   {
    "duration": 151,
    "start_time": "2022-10-06T10:43:46.581Z"
   },
   {
    "duration": 22,
    "start_time": "2022-10-06T10:43:46.735Z"
   },
   {
    "duration": 31,
    "start_time": "2022-10-06T10:43:46.759Z"
   },
   {
    "duration": 67,
    "start_time": "2022-10-06T10:43:46.792Z"
   },
   {
    "duration": 3,
    "start_time": "2022-10-06T10:43:46.862Z"
   },
   {
    "duration": 10,
    "start_time": "2022-10-06T10:43:46.867Z"
   },
   {
    "duration": 21,
    "start_time": "2022-10-06T10:43:46.879Z"
   },
   {
    "duration": 6,
    "start_time": "2022-10-06T10:43:46.902Z"
   },
   {
    "duration": 28,
    "start_time": "2022-10-06T10:43:46.909Z"
   },
   {
    "duration": 16,
    "start_time": "2022-10-06T10:43:46.941Z"
   },
   {
    "duration": 23,
    "start_time": "2022-10-06T10:43:46.959Z"
   },
   {
    "duration": 4,
    "start_time": "2022-10-06T10:43:46.984Z"
   },
   {
    "duration": 11,
    "start_time": "2022-10-06T10:43:46.990Z"
   },
   {
    "duration": 15,
    "start_time": "2022-10-06T10:43:47.002Z"
   },
   {
    "duration": 6,
    "start_time": "2022-10-06T10:43:47.018Z"
   },
   {
    "duration": 20,
    "start_time": "2022-10-06T10:43:47.036Z"
   },
   {
    "duration": 14,
    "start_time": "2022-10-06T10:43:47.058Z"
   },
   {
    "duration": 11,
    "start_time": "2022-10-06T10:43:47.075Z"
   },
   {
    "duration": 16,
    "start_time": "2022-10-06T10:43:47.088Z"
   },
   {
    "duration": 10,
    "start_time": "2022-10-06T10:43:47.106Z"
   },
   {
    "duration": 21,
    "start_time": "2022-10-06T10:43:47.118Z"
   },
   {
    "duration": 34,
    "start_time": "2022-10-06T10:43:47.141Z"
   },
   {
    "duration": 25,
    "start_time": "2022-10-06T10:43:47.177Z"
   },
   {
    "duration": 25,
    "start_time": "2022-10-06T10:43:47.204Z"
   },
   {
    "duration": 192,
    "start_time": "2022-10-06T10:43:47.235Z"
   },
   {
    "duration": 433,
    "start_time": "2022-10-06T10:43:47.431Z"
   },
   {
    "duration": 199,
    "start_time": "2022-10-06T10:43:47.866Z"
   },
   {
    "duration": 39,
    "start_time": "2022-10-06T10:43:48.067Z"
   },
   {
    "duration": 10378,
    "start_time": "2022-10-06T10:43:48.108Z"
   },
   {
    "duration": 472,
    "start_time": "2022-10-06T10:43:58.488Z"
   },
   {
    "duration": 4,
    "start_time": "2022-10-06T10:43:58.962Z"
   },
   {
    "duration": 17,
    "start_time": "2022-10-06T10:43:58.968Z"
   },
   {
    "duration": 153,
    "start_time": "2022-10-06T10:43:58.986Z"
   },
   {
    "duration": 544,
    "start_time": "2022-10-06T10:43:59.141Z"
   },
   {
    "duration": 38741,
    "start_time": "2022-10-06T10:43:59.687Z"
   },
   {
    "duration": 204,
    "start_time": "2022-10-06T10:44:38.435Z"
   },
   {
    "duration": 4,
    "start_time": "2022-10-06T10:44:38.644Z"
   },
   {
    "duration": 33,
    "start_time": "2022-10-06T10:44:38.650Z"
   },
   {
    "duration": 251,
    "start_time": "2022-10-06T10:44:38.685Z"
   },
   {
    "duration": 240,
    "start_time": "2022-10-06T10:44:38.938Z"
   },
   {
    "duration": 20751,
    "start_time": "2022-10-06T10:44:39.180Z"
   },
   {
    "duration": 183,
    "start_time": "2022-10-06T10:44:59.939Z"
   },
   {
    "duration": 573,
    "start_time": "2022-10-06T10:45:00.124Z"
   },
   {
    "duration": 5,
    "start_time": "2022-10-06T10:45:00.699Z"
   },
   {
    "duration": 23,
    "start_time": "2022-10-06T10:45:00.706Z"
   },
   {
    "duration": 30,
    "start_time": "2022-10-06T10:45:00.731Z"
   },
   {
    "duration": 98,
    "start_time": "2022-10-06T10:45:00.762Z"
   },
   {
    "duration": 190,
    "start_time": "2022-10-06T10:45:00.862Z"
   },
   {
    "duration": 1406,
    "start_time": "2022-10-07T11:41:25.557Z"
   },
   {
    "duration": 77,
    "start_time": "2022-10-07T11:41:26.965Z"
   },
   {
    "duration": 21,
    "start_time": "2022-10-07T11:41:27.044Z"
   },
   {
    "duration": 23,
    "start_time": "2022-10-07T11:41:27.067Z"
   },
   {
    "duration": 61,
    "start_time": "2022-10-07T11:41:27.092Z"
   },
   {
    "duration": 4,
    "start_time": "2022-10-07T11:41:27.154Z"
   },
   {
    "duration": 7,
    "start_time": "2022-10-07T11:41:27.160Z"
   },
   {
    "duration": 31,
    "start_time": "2022-10-07T11:41:27.168Z"
   },
   {
    "duration": 7,
    "start_time": "2022-10-07T11:41:27.201Z"
   },
   {
    "duration": 13,
    "start_time": "2022-10-07T11:41:27.212Z"
   },
   {
    "duration": 5,
    "start_time": "2022-10-07T11:41:27.227Z"
   },
   {
    "duration": 21,
    "start_time": "2022-10-07T11:41:27.233Z"
   },
   {
    "duration": 40,
    "start_time": "2022-10-07T11:41:27.257Z"
   },
   {
    "duration": 10,
    "start_time": "2022-10-07T11:41:27.299Z"
   },
   {
    "duration": 12,
    "start_time": "2022-10-07T11:41:27.310Z"
   },
   {
    "duration": 6,
    "start_time": "2022-10-07T11:41:27.324Z"
   },
   {
    "duration": 10,
    "start_time": "2022-10-07T11:41:27.331Z"
   },
   {
    "duration": 6,
    "start_time": "2022-10-07T11:41:27.343Z"
   },
   {
    "duration": 5,
    "start_time": "2022-10-07T11:41:27.351Z"
   },
   {
    "duration": 40,
    "start_time": "2022-10-07T11:41:27.357Z"
   },
   {
    "duration": 4,
    "start_time": "2022-10-07T11:41:27.399Z"
   },
   {
    "duration": 10,
    "start_time": "2022-10-07T11:41:27.404Z"
   },
   {
    "duration": 23,
    "start_time": "2022-10-07T11:41:27.416Z"
   },
   {
    "duration": 18,
    "start_time": "2022-10-07T11:41:27.440Z"
   },
   {
    "duration": 40,
    "start_time": "2022-10-07T11:41:27.460Z"
   },
   {
    "duration": 142,
    "start_time": "2022-10-07T11:41:27.502Z"
   },
   {
    "duration": 52,
    "start_time": "2022-10-07T11:41:27.645Z"
   },
   {
    "duration": 315,
    "start_time": "2022-10-07T11:41:27.704Z"
   },
   {
    "duration": 26,
    "start_time": "2022-10-07T11:41:28.021Z"
   },
   {
    "duration": 13841,
    "start_time": "2022-10-07T11:41:28.048Z"
   },
   {
    "duration": 630,
    "start_time": "2022-10-07T11:41:41.894Z"
   },
   {
    "duration": 33,
    "start_time": "2022-10-07T11:41:42.526Z"
   },
   {
    "duration": 38,
    "start_time": "2022-10-07T11:41:42.561Z"
   },
   {
    "duration": 414,
    "start_time": "2022-10-07T11:41:42.601Z"
   },
   {
    "duration": 13579,
    "start_time": "2022-10-07T11:41:43.016Z"
   },
   {
    "duration": 38,
    "start_time": "2022-10-07T11:41:56.597Z"
   },
   {
    "duration": 6,
    "start_time": "2022-10-07T11:41:56.637Z"
   },
   {
    "duration": 25,
    "start_time": "2022-10-07T11:41:56.645Z"
   },
   {
    "duration": 23,
    "start_time": "2022-10-07T11:41:56.672Z"
   },
   {
    "duration": 100,
    "start_time": "2022-10-07T11:41:56.697Z"
   },
   {
    "duration": 229,
    "start_time": "2022-10-07T11:41:56.799Z"
   },
   {
    "duration": 8329,
    "start_time": "2022-10-07T11:41:57.033Z"
   },
   {
    "duration": 44,
    "start_time": "2022-10-07T11:42:05.364Z"
   },
   {
    "duration": 190,
    "start_time": "2022-10-07T11:42:05.410Z"
   },
   {
    "duration": 4,
    "start_time": "2022-10-07T11:42:05.602Z"
   },
   {
    "duration": 20,
    "start_time": "2022-10-07T11:42:05.607Z"
   },
   {
    "duration": 6,
    "start_time": "2022-10-07T11:42:05.629Z"
   },
   {
    "duration": 62,
    "start_time": "2022-10-07T11:42:05.636Z"
   },
   {
    "duration": 503,
    "start_time": "2022-10-07T11:42:05.700Z"
   },
   {
    "duration": 21067,
    "start_time": "2022-10-07T11:42:06.205Z"
   },
   {
    "duration": 41,
    "start_time": "2022-10-07T11:42:27.274Z"
   },
   {
    "duration": 187,
    "start_time": "2022-10-07T11:42:27.316Z"
   },
   {
    "duration": 516,
    "start_time": "2022-10-07T11:42:27.505Z"
   },
   {
    "duration": 5,
    "start_time": "2022-10-07T11:42:28.023Z"
   },
   {
    "duration": 19,
    "start_time": "2022-10-07T11:42:28.030Z"
   },
   {
    "duration": 7,
    "start_time": "2022-10-07T11:42:28.051Z"
   },
   {
    "duration": 81,
    "start_time": "2022-10-07T11:42:28.060Z"
   },
   {
    "duration": 174,
    "start_time": "2022-10-07T11:42:28.143Z"
   }
  ],
  "kernelspec": {
   "display_name": "Python 3 (ipykernel)",
   "language": "python",
   "name": "python3"
  },
  "language_info": {
   "codemirror_mode": {
    "name": "ipython",
    "version": 3
   },
   "file_extension": ".py",
   "mimetype": "text/x-python",
   "name": "python",
   "nbconvert_exporter": "python",
   "pygments_lexer": "ipython3",
   "version": "3.9.12"
  },
  "latex_envs": {
   "LaTeX_envs_menu_present": true,
   "autoclose": false,
   "autocomplete": true,
   "bibliofile": "biblio.bib",
   "cite_by": "apalike",
   "current_citInitial": 1,
   "eqLabelWithNumbers": true,
   "eqNumInitial": 1,
   "hotkeys": {
    "equation": "Ctrl-E",
    "itemize": "Ctrl-I"
   },
   "labels_anchors": false,
   "latex_user_defs": false,
   "report_style_numbering": false,
   "user_envs_cfg": false
  },
  "nbTranslate": {
   "displayLangs": [
    "*"
   ],
   "hotkey": "alt-t",
   "langInMainMenu": true,
   "sourceLang": "en",
   "targetLang": "fr",
   "useGoogleTranslate": true
  },
  "toc": {
   "base_numbering": 1,
   "nav_menu": {},
   "number_sections": true,
   "sideBar": false,
   "skip_h1_title": true,
   "title_cell": "Содержание",
   "title_sidebar": "Contents",
   "toc_cell": true,
   "toc_position": {
    "height": "478.4px",
    "left": "420px",
    "top": "111.125px",
    "width": "349.087px"
   },
   "toc_section_display": true,
   "toc_window_display": false
  }
 },
 "nbformat": 4,
 "nbformat_minor": 2
}
